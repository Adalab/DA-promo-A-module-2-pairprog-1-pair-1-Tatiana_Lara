{
 "cells": [
  {
   "cell_type": "markdown",
   "metadata": {},
   "source": [
    "# 20/04 - Pair Programming Pandas 3 - Tatiana & Lara"
   ]
  },
  {
   "cell_type": "markdown",
   "metadata": {},
   "source": [
    "1) Cargar el dataset\n",
    "💡 Pista Si hacemos la carga del dataset sin el parámetro encoding nos dará error. Aquí tenéis una lista de los encodings disponibles en pandas. Buscad por los encoding de tipo ISO."
   ]
  },
  {
   "cell_type": "code",
   "execution_count": 2,
   "metadata": {},
   "outputs": [],
   "source": [
    "import pandas as pd"
   ]
  },
  {
   "cell_type": "code",
   "execution_count": 3,
   "metadata": {},
   "outputs": [],
   "source": [
    "#Carga dataset\n",
    "data = pd.read_csv(\"3_attacks.csv\", encoding = \"iso-8859-1\")\n"
   ]
  },
  {
   "cell_type": "markdown",
   "metadata": {},
   "source": [
    "# Exploración básica del dataframe:\n"
   ]
  },
  {
   "cell_type": "markdown",
   "metadata": {},
   "source": [
    "Cuántas filas y columnas tiene el dataframe\n"
   ]
  },
  {
   "cell_type": "code",
   "execution_count": 4,
   "metadata": {},
   "outputs": [
    {
     "data": {
      "text/plain": [
       "(6114, 22)"
      ]
     },
     "execution_count": 4,
     "metadata": {},
     "output_type": "execute_result"
    }
   ],
   "source": [
    "filasycol = data.shape\n",
    "filasycol\n",
    "\n",
    "#6114 filas y 22 columnas"
   ]
  },
  {
   "cell_type": "markdown",
   "metadata": {},
   "source": [
    "Mostrad las primeras cinco filas y las últimas cinco filas del dataframe"
   ]
  },
  {
   "cell_type": "code",
   "execution_count": 5,
   "metadata": {},
   "outputs": [
    {
     "name": "stdout",
     "output_type": "stream",
     "text": [
      "Estas son las 5 primeras filas: \n",
      "    Unnamed: 0 Case Number    Year        Type    Country             Area  \\\n",
      "0           0  2018.06.25  2018.0     Boating        USA       California   \n",
      "1           1  2018.06.18  2018.0  Unprovoked        USA          Georgia   \n",
      "2           2  2018.06.09  2018.0     Invalid        USA           Hawaii   \n",
      "3           3  2018.06.08  2018.0  Unprovoked  AUSTRALIA  New South Wales   \n",
      "4           4  2018.06.04  2018.0    Provoked     MEXICO           Colima   \n",
      "\n",
      "                         Location     Activity              Name Sex   ...  \\\n",
      "0     Oceanside, San Diego County     Paddling       Julie Wolfe    F  ...   \n",
      "1  St. Simon Island, Glynn County     Standing  AdysonÂ McNeely     F  ...   \n",
      "2                    Habush, Oahu      Surfing       John Denges    M  ...   \n",
      "3              Arrawarra Headland      Surfing              male    M  ...   \n",
      "4                        La Ticla  Free diving    Gustavo Ramos     M  ...   \n",
      "\n",
      "          Species           Investigator or Source                       pdf  \\\n",
      "0      White shark                R. Collier, GSAF      2018.06.25-Wolfe.pdf   \n",
      "1              NaN  K.McMurray, TrackingSharks.com    2018.06.18-McNeely.pdf   \n",
      "2              NaN  K.McMurray, TrackingSharks.com     2018.06.09-Denges.pdf   \n",
      "3        2 m shark                  B. Myatt, GSAF  2018.06.08-Arrawarra.pdf   \n",
      "4  Tiger shark, 3m                       A .Kipper      2018.06.04-Ramos.pdf   \n",
      "\n",
      "                                        href formula  \\\n",
      "0  http://sharkattackfile.net/spreadsheets/pdf_di...   \n",
      "1  http://sharkattackfile.net/spreadsheets/pdf_di...   \n",
      "2  http://sharkattackfile.net/spreadsheets/pdf_di...   \n",
      "3  http://sharkattackfile.net/spreadsheets/pdf_di...   \n",
      "4  http://sharkattackfile.net/spreadsheets/pdf_di...   \n",
      "\n",
      "                                                href Case Number.1  \\\n",
      "0  http://sharkattackfile.net/spreadsheets/pdf_di...    2018.06.25   \n",
      "1  http://sharkattackfile.net/spreadsheets/pdf_di...    2018.06.18   \n",
      "2  http://sharkattackfile.net/spreadsheets/pdf_di...    2018.06.09   \n",
      "3  http://sharkattackfile.net/spreadsheets/pdf_di...    2018.06.08   \n",
      "4  http://sharkattackfile.net/spreadsheets/pdf_di...    2018.06.04   \n",
      "\n",
      "  Case Number.2 original order Unnamed: 22  Unnamed: 23  \n",
      "0    2018.06.25         6303.0         NaN          NaN  \n",
      "1    2018.06.18         6302.0         NaN          NaN  \n",
      "2    2018.06.09         6301.0         NaN          NaN  \n",
      "3    2018.06.08         6300.0         NaN          NaN  \n",
      "4    2018.06.04         6299.0         NaN          NaN  \n",
      "\n",
      "[5 rows x 22 columns]\n",
      "Estas son las 5 últimas filas: \n",
      "       Unnamed: 0   Case Number    Year          Type    Country  \\\n",
      "6109        6127  1804.02.26.R  1804.0          Boat  AUSTRALIA   \n",
      "6110        6128    1803.05.17  1803.0  Sea Disaster        USA   \n",
      "6111        6129    1803.03.00  1803.0    Unprovoked  AUSTRALIA   \n",
      "6112        6130  1802.04.13.R  1802.0    Unprovoked      INDIA   \n",
      "6113        6131  1801.12.18.R  1801.0      Provoked        NaN   \n",
      "\n",
      "                   Area                          Location  \\\n",
      "6109    New South Wales    Georges Head, off Port Jackson   \n",
      "6110     South Carolina                    Off Charleston   \n",
      "6111  Western Australia  Hamelin Harbour, at Faure Island   \n",
      "6112                NaN                               NaN   \n",
      "6113                NaN                               NaN   \n",
      "\n",
      "                             Activity                             Name Sex   \\\n",
      "6109                              NaN                             boat  NaN   \n",
      "6110                              NaN                    Captain Jones    M   \n",
      "6111                              NaN  M. Lefevre & a sailor (rescuer)    M   \n",
      "6112                              NaN                              NaN  NaN   \n",
      "6113  Standing on landed shark's tail                 Stephen Pettigew    N   \n",
      "\n",
      "      ...   Species                              Investigator or Source  \\\n",
      "6109  ...        NaN                         Sydney Gazette, 2/26/1804    \n",
      "6110  ...        NaN                            Evening Post, 6/13/1803   \n",
      "6111  ...        NaN  F.  Peron ref in G.P. Whitley (Fishes of Austr...   \n",
      "6112  ...        NaN                  Evening Post (New York) 4/13/1802   \n",
      "6113  ...  12' shark                       The Evening Post, 12/18/1801   \n",
      "\n",
      "                                  pdf  \\\n",
      "6109  1804.02.26-boat-GeorgesHead.pdf   \n",
      "6110             1803.05.17-Jones.pdf   \n",
      "6111           1803.03.00-Lefevre.pdf   \n",
      "6112           1802.04.13.R-India.pdf   \n",
      "6113       1801.12.18.R-Pettigrew.pdf   \n",
      "\n",
      "                                           href formula  \\\n",
      "6109  http://sharkattackfile.net/spreadsheets/pdf_di...   \n",
      "6110  http://sharkattackfile.net/spreadsheets/pdf_di...   \n",
      "6111  http://sharkattackfile.net/spreadsheets/pdf_di...   \n",
      "6112  http://sharkattackfile.net/spreadsheets/pdf_di...   \n",
      "6113  http://sharkattackfile.net/spreadsheets/pdf_di...   \n",
      "\n",
      "                                                   href Case Number.1  \\\n",
      "6109  http://sharkattackfile.net/spreadsheets/pdf_di...  1804.02.26.R   \n",
      "6110  http://sharkattackfile.net/spreadsheets/pdf_di...    1803.05.17   \n",
      "6111  http://sharkattackfile.net/spreadsheets/pdf_di...    1803.03.00   \n",
      "6112  http://sharkattackfile.net/spreadsheets/pdf_di...  1802.04.13.R   \n",
      "6113  http://sharkattackfile.net/spreadsheets/pdf_di...  1801.12.18.R   \n",
      "\n",
      "     Case Number.2 original order Unnamed: 22  Unnamed: 23  \n",
      "6109  1804.02.26.R          176.0         NaN          NaN  \n",
      "6110    1803.05.17          175.0         NaN          NaN  \n",
      "6111    1803.03.00          174.0         NaN          NaN  \n",
      "6112  1802.04.13.R          173.0         NaN          NaN  \n",
      "6113  1801.12.18.R          172.0         NaN          NaN  \n",
      "\n",
      "[5 rows x 22 columns]\n"
     ]
    }
   ],
   "source": [
    "print(\"Estas son las 5 primeras filas:\", \"\\n\", data.head())\n",
    "print(\"Estas son las 5 últimas filas:\", \"\\n\", data.tail())"
   ]
  },
  {
   "cell_type": "markdown",
   "metadata": {},
   "source": [
    "Mostrad 2 filas al azar del dataframe"
   ]
  },
  {
   "cell_type": "code",
   "execution_count": 22,
   "metadata": {},
   "outputs": [
    {
     "name": "stdout",
     "output_type": "stream",
     "text": [
      "Estas son dos filas al azar de nuestro dataframe: \n",
      "       Unnamed: 0   Case Number    Year        Type      Country          Area  \\\n",
      "5664        5681  1892.05.19.R  1892.0  Unprovoked  NEW ZEALAND  North Island   \n",
      "5626        5643    1895.03.15  1895.0  Unprovoked    AUSTRALIA    Queensland   \n",
      "\n",
      "           Location  Activity           Name Sex   ... Species   \\\n",
      "5664    Rockhampton   Bathing  Abraham Yates    M  ...      NaN   \n",
      "5626  Burnett River  Swimming  Nicol Pringle    M  ...      NaN   \n",
      "\n",
      "             Investigator or Source                     pdf  \\\n",
      "5664  Wanganui Chronicle, 5/19/1892  1892.05.19.R-Yates.pdf   \n",
      "5626       The Telegraph, 3/20/1895  1895.03.15-Pringle.pdf   \n",
      "\n",
      "                                           href formula  \\\n",
      "5664  http://sharkattackfile.net/spreadsheets/pdf_di...   \n",
      "5626  http://sharkattackfile.net/spreadsheets/pdf_di...   \n",
      "\n",
      "                                                   href Case Number.1  \\\n",
      "5664  http://sharkattackfile.net/spreadsheets/pdf_di...  1892.05.19.R   \n",
      "5626  http://sharkattackfile.net/spreadsheets/pdf_di...    1895.03.15   \n",
      "\n",
      "     Case Number.2 original order Unnamed: 22  Unnamed: 23  \n",
      "5664  1892.05.19.R          622.0         NaN          NaN  \n",
      "5626    1895.03.15          660.0         NaN          NaN  \n",
      "\n",
      "[2 rows x 22 columns]\n"
     ]
    }
   ],
   "source": [
    "print(\"Estas son dos filas al azar de nuestro dataframe:\", \"\\n\", data.sample(2))"
   ]
  },
  {
   "cell_type": "markdown",
   "metadata": {},
   "source": [
    "¿Cuál es el nombre de las columnas del dataframe?"
   ]
  },
  {
   "cell_type": "code",
   "execution_count": 23,
   "metadata": {},
   "outputs": [
    {
     "name": "stdout",
     "output_type": "stream",
     "text": [
      "El nombre de las columnas es: \n",
      " Index(['Unnamed: 0', 'Case Number', 'Year', 'Type', 'Country', 'Area',\n",
      "       'Location', 'Activity', 'Name', 'Sex ', 'Age', 'Time', 'Species ',\n",
      "       'Investigator or Source', 'pdf', 'href formula', 'href',\n",
      "       'Case Number.1', 'Case Number.2', 'original order', 'Unnamed: 22',\n",
      "       'Unnamed: 23'],\n",
      "      dtype='object')\n"
     ]
    }
   ],
   "source": [
    "print(\"El nombre de las columnas es:\", \"\\n\", data.columns)"
   ]
  },
  {
   "cell_type": "markdown",
   "metadata": {},
   "source": [
    "¿Cuáles son los principales estádisticos del dataframe? Mostrad por separado las variables categóricas y las variables numéricas."
   ]
  },
  {
   "cell_type": "code",
   "execution_count": 27,
   "metadata": {},
   "outputs": [
    {
     "name": "stdout",
     "output_type": "stream",
     "text": [
      "Los principales datos estadísticos son: \n",
      "        Unnamed: 0    Year  original order\n",
      "count      6114.0  6114.0          6114.0\n",
      "mean       3066.0  1969.0          3237.0\n",
      "std        1770.0    44.0          1770.0\n",
      "min           0.0  1801.0           172.0\n",
      "25%        1534.0  1946.0          1706.0\n",
      "50%        3066.0  1980.0          3236.0\n",
      "75%        4597.0  2005.0          4769.0\n",
      "max        6131.0  2018.0          6303.0\n"
     ]
    }
   ],
   "source": [
    "print(\"Los principales datos estadísticos de las variables numéricas son:\", \"\\n\", data.describe().round(2))"
   ]
  },
  {
   "cell_type": "code",
   "execution_count": 28,
   "metadata": {},
   "outputs": [
    {
     "name": "stdout",
     "output_type": "stream",
     "text": [
      "Los principales datos estadísticos de las variables categóricas son: \n",
      "        Case Number        Type Country     Area  \\\n",
      "count         6113        6110    6074     5706   \n",
      "unique        6113           8     201      791   \n",
      "top     2018.06.25  Unprovoked     USA  Florida   \n",
      "freq             1        4438    2200     1025   \n",
      "\n",
      "                                Location Activity  Name  Sex    Age  \\\n",
      "count                               5626     5603  5914  5564  3448   \n",
      "unique                              4020     1484  5118     6   156   \n",
      "top     New Smyrna Beach, Volusia County  Surfing  male     M    17   \n",
      "freq                                 162      966   511  4939   154   \n",
      "\n",
      "             Time     Species  Investigator or Source                     pdf  \\\n",
      "count        2934         3409                   6098                    6114   \n",
      "unique        366         1529                   4837                    6105   \n",
      "top     Afternoon  White shark         C. Moore, GSAF  1898.00.00.R-Syria.pdf   \n",
      "freq          183          161                     95                       2   \n",
      "\n",
      "                                             href formula  \\\n",
      "count                                                6113   \n",
      "unique                                               6104   \n",
      "top     http://sharkattackfile.net/spreadsheets/pdf_di...   \n",
      "freq                                                    2   \n",
      "\n",
      "                                                     href Case Number.1  \\\n",
      "count                                                6114          6114   \n",
      "unique                                               6099          6113   \n",
      "top     http://sharkattackfile.net/spreadsheets/pdf_di...    1952.08.04   \n",
      "freq                                                    4             2   \n",
      "\n",
      "       Case Number.2   Unnamed: 22 Unnamed: 23  \n",
      "count           6114             1           2  \n",
      "unique          6114             1           2  \n",
      "top       2018.06.25  stopped here      Teramo  \n",
      "freq               1             1           1  \n"
     ]
    }
   ],
   "source": [
    "print(\"Los principales datos estadísticos de las variables categóricas son:\", \"\\n\", data.describe(include = \"object\"))"
   ]
  },
  {
   "cell_type": "markdown",
   "metadata": {},
   "source": [
    "¿Cuál es el porcentaje de valores nulos en cada columna?"
   ]
  },
  {
   "cell_type": "code",
   "execution_count": null,
   "metadata": {},
   "outputs": [],
   "source": [
    "total_nulos = data.isnull().sum()\n",
    "porcentaje_nulos = total_nulos / filasycol[0] * 100\n",
    "#print(\"El total de valores nulos en cada columna es:\", \"\\n\", total_nulos)\n",
    "print(\"El porcentaje de valores nulos en cada columna es:\", \"\\n\", porcentaje_nulos)"
   ]
  },
  {
   "cell_type": "markdown",
   "metadata": {},
   "source": [
    "Sacad los valores únicos y su frecuencia de las variables numéricas. Almacenad los resultados en un diccionario. Uno para cada variable."
   ]
  },
  {
   "cell_type": "code",
   "execution_count": null,
   "metadata": {},
   "outputs": [],
   "source": [
    "#Variable numérica \"unnamed:0\"\n",
    "valores_uni = data[\"Unnamed: 0\"].unique()\n",
    "frecuencia = pd.value_counts(valores_uni)\n",
    "\n",
    "print(\"Los valores únicos de la variable numérica 'unnamed 0' es:\", valores_uni)\n",
    "print(\"La frecuencia de valores de la variable numérica 'unnamed 0' es:\", frecuencia)\n",
    "\n",
    "#Year\n",
    "\n",
    "valores_uni_y = data[\"Year\"].unique()\n",
    "frecuencia_y = pd.value_counts(valores_uni_y)\n",
    "\n",
    "print(\"Los valores únicos de la variable numérica 'Year' es:\", valores_uni_y)\n",
    "print(\"La frecuencia de valores de la variable numérica 'Year' es:\", frecuencia_y)\n",
    "\n",
    "#Original order\n",
    "\n",
    "valores_uni_o = data[\"original order\"].unique()\n",
    "frecuencia_o= pd.value_counts(valores_uni_o)\n",
    "\n",
    "print(\"Los valores únicos de la variable numérica 'original order' es:\", valores_uni_o)\n",
    "print(\"La frecuencia de valores de la variable numérica 'original order' es:\", frecuencia_o)\n"
   ]
  },
  {
   "cell_type": "code",
   "execution_count": 13,
   "metadata": {},
   "outputs": [
    {
     "name": "stdout",
     "output_type": "stream",
     "text": [
      "6113\n",
      "6113\n"
     ]
    }
   ],
   "source": [
    "#DUDA: ¿tiene sentido que sean los 6114 valores únicos, y por tanto la frecuencia 1?\n",
    "print(len(valores_uni_o)) \n",
    "print(len(frecuencia_o))"
   ]
  },
  {
   "cell_type": "code",
   "execution_count": null,
   "metadata": {},
   "outputs": [],
   "source": [
    "# Diccionario {valor único : frecuencia}\n",
    "\n",
    "lista = list(zip(valores_uni, frecuencia))\n",
    "dicc_unnamed0 = dict(lista)\n",
    "#print(dicc_unnamed0)\n",
    "\n",
    "lista_y = list(zip(valores_uni_y, frecuencia_y))\n",
    "dicc_year = dict(lista_y)\n",
    "#print(dicc_year)\n",
    "\n",
    "\n",
    "#original order\n",
    "lista_o = list(zip(valores_uni_o, frecuencia_o))\n",
    "dicc_ori= dict(lista_o)\n",
    "print(dicc_ori)\n"
   ]
  },
  {
   "cell_type": "code",
   "execution_count": null,
   "metadata": {},
   "outputs": [],
   "source": [
    "#Diccionario {valor : frecuencia}"
   ]
  },
  {
   "cell_type": "markdown",
   "metadata": {},
   "source": [
    "\n",
    "\n",
    "\n",
    "\n",
    "\n",
    "Cambiad el nombre de las columnas para que todas estén en minúsculas y reemplazad los espacios por _.\n",
    "Eliminad las columnas de Unnamed: 22 y Unnamed: 23, Case Number.1, Case Number.2, original order, Investigator or Source, pdf, href formula.\n",
    "Establece la columna Case Number como índice del dataframe."
   ]
  }
 ],
 "metadata": {
  "interpreter": {
   "hash": "31f2aee4e71d21fbe5cf8b01ff0e069b9275f58929596ceb00d14d90e3e16cd6"
  },
  "kernelspec": {
   "display_name": "Python 3.6.9 64-bit",
   "language": "python",
   "name": "python3"
  },
  "language_info": {
   "codemirror_mode": {
    "name": "ipython",
    "version": 3
   },
   "file_extension": ".py",
   "mimetype": "text/x-python",
   "name": "python",
   "nbconvert_exporter": "python",
   "pygments_lexer": "ipython3",
   "version": "3.9.7"
  },
  "orig_nbformat": 4
 },
 "nbformat": 4,
 "nbformat_minor": 2
}
