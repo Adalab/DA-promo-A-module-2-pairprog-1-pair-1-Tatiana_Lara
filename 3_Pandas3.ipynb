{
 "cells": [
  {
   "cell_type": "markdown",
   "metadata": {},
   "source": [
    "# 20/04 - Pair Programming Pandas 3 - Tatiana & Lara"
   ]
  },
  {
   "cell_type": "markdown",
   "metadata": {},
   "source": [
    "1) Cargar el dataset\n",
    "💡 Pista Si hacemos la carga del dataset sin el parámetro encoding nos dará error. Aquí tenéis una lista de los encodings disponibles en pandas. Buscad por los encoding de tipo ISO."
   ]
  },
  {
   "cell_type": "code",
   "execution_count": 12,
   "metadata": {},
   "outputs": [],
   "source": [
    "import pandas as pd"
   ]
  },
  {
   "cell_type": "code",
   "execution_count": 30,
   "metadata": {},
   "outputs": [],
   "source": [
    "#Carga dataset\n",
    "data = pd.read_csv(\"3_attacks.csv\", encoding = \"iso-8859-1\")\n"
   ]
  },
  {
   "cell_type": "markdown",
   "metadata": {},
   "source": [
    "# Exploración básica del dataframe:\n"
   ]
  },
  {
   "cell_type": "markdown",
   "metadata": {},
   "source": [
    "Cuántas filas y columnas tiene el dataframe\n"
   ]
  },
  {
   "cell_type": "code",
   "execution_count": 17,
   "metadata": {},
   "outputs": [
    {
     "data": {
      "text/plain": [
       "(6114, 22)"
      ]
     },
     "execution_count": 17,
     "metadata": {},
     "output_type": "execute_result"
    }
   ],
   "source": [
    "filasycol = data.shape\n",
    "filasycol\n",
    "\n",
    "#6114 filas y 22 columnas"
   ]
  },
  {
   "cell_type": "markdown",
   "metadata": {},
   "source": [
    "Mostrad las primeras cinco filas y las últimas cinco filas del dataframe"
   ]
  },
  {
   "cell_type": "code",
   "execution_count": 21,
   "metadata": {},
   "outputs": [
    {
     "name": "stdout",
     "output_type": "stream",
     "text": [
      "Estas son las 5 primeras filas: \n",
      "    Unnamed: 0 Case Number    Year        Type    Country             Area  \\\n",
      "0           0  2018.06.25  2018.0     Boating        USA       California   \n",
      "1           1  2018.06.18  2018.0  Unprovoked        USA          Georgia   \n",
      "2           2  2018.06.09  2018.0     Invalid        USA           Hawaii   \n",
      "3           3  2018.06.08  2018.0  Unprovoked  AUSTRALIA  New South Wales   \n",
      "4           4  2018.06.04  2018.0    Provoked     MEXICO           Colima   \n",
      "\n",
      "                         Location     Activity              Name Sex   ...  \\\n",
      "0     Oceanside, San Diego County     Paddling       Julie Wolfe    F  ...   \n",
      "1  St. Simon Island, Glynn County     Standing  AdysonÂ McNeely     F  ...   \n",
      "2                    Habush, Oahu      Surfing       John Denges    M  ...   \n",
      "3              Arrawarra Headland      Surfing              male    M  ...   \n",
      "4                        La Ticla  Free diving    Gustavo Ramos     M  ...   \n",
      "\n",
      "          Species           Investigator or Source                       pdf  \\\n",
      "0      White shark                R. Collier, GSAF      2018.06.25-Wolfe.pdf   \n",
      "1              NaN  K.McMurray, TrackingSharks.com    2018.06.18-McNeely.pdf   \n",
      "2              NaN  K.McMurray, TrackingSharks.com     2018.06.09-Denges.pdf   \n",
      "3        2 m shark                  B. Myatt, GSAF  2018.06.08-Arrawarra.pdf   \n",
      "4  Tiger shark, 3m                       A .Kipper      2018.06.04-Ramos.pdf   \n",
      "\n",
      "                                        href formula  \\\n",
      "0  http://sharkattackfile.net/spreadsheets/pdf_di...   \n",
      "1  http://sharkattackfile.net/spreadsheets/pdf_di...   \n",
      "2  http://sharkattackfile.net/spreadsheets/pdf_di...   \n",
      "3  http://sharkattackfile.net/spreadsheets/pdf_di...   \n",
      "4  http://sharkattackfile.net/spreadsheets/pdf_di...   \n",
      "\n",
      "                                                href Case Number.1  \\\n",
      "0  http://sharkattackfile.net/spreadsheets/pdf_di...    2018.06.25   \n",
      "1  http://sharkattackfile.net/spreadsheets/pdf_di...    2018.06.18   \n",
      "2  http://sharkattackfile.net/spreadsheets/pdf_di...    2018.06.09   \n",
      "3  http://sharkattackfile.net/spreadsheets/pdf_di...    2018.06.08   \n",
      "4  http://sharkattackfile.net/spreadsheets/pdf_di...    2018.06.04   \n",
      "\n",
      "  Case Number.2 original order Unnamed: 22  Unnamed: 23  \n",
      "0    2018.06.25         6303.0         NaN          NaN  \n",
      "1    2018.06.18         6302.0         NaN          NaN  \n",
      "2    2018.06.09         6301.0         NaN          NaN  \n",
      "3    2018.06.08         6300.0         NaN          NaN  \n",
      "4    2018.06.04         6299.0         NaN          NaN  \n",
      "\n",
      "[5 rows x 22 columns]\n",
      "Estas son las 5 últimas filas: \n",
      "       Unnamed: 0   Case Number    Year          Type    Country  \\\n",
      "6109        6127  1804.02.26.R  1804.0          Boat  AUSTRALIA   \n",
      "6110        6128    1803.05.17  1803.0  Sea Disaster        USA   \n",
      "6111        6129    1803.03.00  1803.0    Unprovoked  AUSTRALIA   \n",
      "6112        6130  1802.04.13.R  1802.0    Unprovoked      INDIA   \n",
      "6113        6131  1801.12.18.R  1801.0      Provoked        NaN   \n",
      "\n",
      "                   Area                          Location  \\\n",
      "6109    New South Wales    Georges Head, off Port Jackson   \n",
      "6110     South Carolina                    Off Charleston   \n",
      "6111  Western Australia  Hamelin Harbour, at Faure Island   \n",
      "6112                NaN                               NaN   \n",
      "6113                NaN                               NaN   \n",
      "\n",
      "                             Activity                             Name Sex   \\\n",
      "6109                              NaN                             boat  NaN   \n",
      "6110                              NaN                    Captain Jones    M   \n",
      "6111                              NaN  M. Lefevre & a sailor (rescuer)    M   \n",
      "6112                              NaN                              NaN  NaN   \n",
      "6113  Standing on landed shark's tail                 Stephen Pettigew    N   \n",
      "\n",
      "      ...   Species                              Investigator or Source  \\\n",
      "6109  ...        NaN                         Sydney Gazette, 2/26/1804    \n",
      "6110  ...        NaN                            Evening Post, 6/13/1803   \n",
      "6111  ...        NaN  F.  Peron ref in G.P. Whitley (Fishes of Austr...   \n",
      "6112  ...        NaN                  Evening Post (New York) 4/13/1802   \n",
      "6113  ...  12' shark                       The Evening Post, 12/18/1801   \n",
      "\n",
      "                                  pdf  \\\n",
      "6109  1804.02.26-boat-GeorgesHead.pdf   \n",
      "6110             1803.05.17-Jones.pdf   \n",
      "6111           1803.03.00-Lefevre.pdf   \n",
      "6112           1802.04.13.R-India.pdf   \n",
      "6113       1801.12.18.R-Pettigrew.pdf   \n",
      "\n",
      "                                           href formula  \\\n",
      "6109  http://sharkattackfile.net/spreadsheets/pdf_di...   \n",
      "6110  http://sharkattackfile.net/spreadsheets/pdf_di...   \n",
      "6111  http://sharkattackfile.net/spreadsheets/pdf_di...   \n",
      "6112  http://sharkattackfile.net/spreadsheets/pdf_di...   \n",
      "6113  http://sharkattackfile.net/spreadsheets/pdf_di...   \n",
      "\n",
      "                                                   href Case Number.1  \\\n",
      "6109  http://sharkattackfile.net/spreadsheets/pdf_di...  1804.02.26.R   \n",
      "6110  http://sharkattackfile.net/spreadsheets/pdf_di...    1803.05.17   \n",
      "6111  http://sharkattackfile.net/spreadsheets/pdf_di...    1803.03.00   \n",
      "6112  http://sharkattackfile.net/spreadsheets/pdf_di...  1802.04.13.R   \n",
      "6113  http://sharkattackfile.net/spreadsheets/pdf_di...  1801.12.18.R   \n",
      "\n",
      "     Case Number.2 original order Unnamed: 22  Unnamed: 23  \n",
      "6109  1804.02.26.R          176.0         NaN          NaN  \n",
      "6110    1803.05.17          175.0         NaN          NaN  \n",
      "6111    1803.03.00          174.0         NaN          NaN  \n",
      "6112  1802.04.13.R          173.0         NaN          NaN  \n",
      "6113  1801.12.18.R          172.0         NaN          NaN  \n",
      "\n",
      "[5 rows x 22 columns]\n"
     ]
    }
   ],
   "source": [
    "print(\"Estas son las 5 primeras filas:\", \"\\n\", data.head())\n",
    "print(\"Estas son las 5 últimas filas:\", \"\\n\", data.tail())"
   ]
  },
  {
   "cell_type": "markdown",
   "metadata": {},
   "source": [
    "Mostrad 2 filas al azar del dataframe"
   ]
  },
  {
   "cell_type": "code",
   "execution_count": 22,
   "metadata": {},
   "outputs": [
    {
     "name": "stdout",
     "output_type": "stream",
     "text": [
      "Estas son dos filas al azar de nuestro dataframe: \n",
      "       Unnamed: 0   Case Number    Year        Type      Country          Area  \\\n",
      "5664        5681  1892.05.19.R  1892.0  Unprovoked  NEW ZEALAND  North Island   \n",
      "5626        5643    1895.03.15  1895.0  Unprovoked    AUSTRALIA    Queensland   \n",
      "\n",
      "           Location  Activity           Name Sex   ... Species   \\\n",
      "5664    Rockhampton   Bathing  Abraham Yates    M  ...      NaN   \n",
      "5626  Burnett River  Swimming  Nicol Pringle    M  ...      NaN   \n",
      "\n",
      "             Investigator or Source                     pdf  \\\n",
      "5664  Wanganui Chronicle, 5/19/1892  1892.05.19.R-Yates.pdf   \n",
      "5626       The Telegraph, 3/20/1895  1895.03.15-Pringle.pdf   \n",
      "\n",
      "                                           href formula  \\\n",
      "5664  http://sharkattackfile.net/spreadsheets/pdf_di...   \n",
      "5626  http://sharkattackfile.net/spreadsheets/pdf_di...   \n",
      "\n",
      "                                                   href Case Number.1  \\\n",
      "5664  http://sharkattackfile.net/spreadsheets/pdf_di...  1892.05.19.R   \n",
      "5626  http://sharkattackfile.net/spreadsheets/pdf_di...    1895.03.15   \n",
      "\n",
      "     Case Number.2 original order Unnamed: 22  Unnamed: 23  \n",
      "5664  1892.05.19.R          622.0         NaN          NaN  \n",
      "5626    1895.03.15          660.0         NaN          NaN  \n",
      "\n",
      "[2 rows x 22 columns]\n"
     ]
    }
   ],
   "source": [
    "print(\"Estas son dos filas al azar de nuestro dataframe:\", \"\\n\", data.sample(2))"
   ]
  },
  {
   "cell_type": "markdown",
   "metadata": {},
   "source": [
    "¿Cuál es el nombre de las columnas del dataframe?"
   ]
  },
  {
   "cell_type": "code",
   "execution_count": 23,
   "metadata": {},
   "outputs": [
    {
     "name": "stdout",
     "output_type": "stream",
     "text": [
      "El nombre de las columnas es: \n",
      " Index(['Unnamed: 0', 'Case Number', 'Year', 'Type', 'Country', 'Area',\n",
      "       'Location', 'Activity', 'Name', 'Sex ', 'Age', 'Time', 'Species ',\n",
      "       'Investigator or Source', 'pdf', 'href formula', 'href',\n",
      "       'Case Number.1', 'Case Number.2', 'original order', 'Unnamed: 22',\n",
      "       'Unnamed: 23'],\n",
      "      dtype='object')\n"
     ]
    }
   ],
   "source": [
    "print(\"El nombre de las columnas es:\", \"\\n\", data.columns)"
   ]
  },
  {
   "cell_type": "markdown",
   "metadata": {},
   "source": [
    "¿Cuáles son los principales estádisticos del dataframe? Mostrad por separado las variables categóricas y las variables numéricas."
   ]
  },
  {
   "cell_type": "code",
   "execution_count": 27,
   "metadata": {},
   "outputs": [
    {
     "name": "stdout",
     "output_type": "stream",
     "text": [
      "Los principales datos estadísticos son: \n",
      "        Unnamed: 0    Year  original order\n",
      "count      6114.0  6114.0          6114.0\n",
      "mean       3066.0  1969.0          3237.0\n",
      "std        1770.0    44.0          1770.0\n",
      "min           0.0  1801.0           172.0\n",
      "25%        1534.0  1946.0          1706.0\n",
      "50%        3066.0  1980.0          3236.0\n",
      "75%        4597.0  2005.0          4769.0\n",
      "max        6131.0  2018.0          6303.0\n"
     ]
    }
   ],
   "source": [
    "print(\"Los principales datos estadísticos de las variables numéricas son:\", \"\\n\", data.describe().round(2))"
   ]
  },
  {
   "cell_type": "code",
   "execution_count": 28,
   "metadata": {},
   "outputs": [
    {
     "name": "stdout",
     "output_type": "stream",
     "text": [
      "Los principales datos estadísticos de las variables categóricas son: \n",
      "        Case Number        Type Country     Area  \\\n",
      "count         6113        6110    6074     5706   \n",
      "unique        6113           8     201      791   \n",
      "top     2018.06.25  Unprovoked     USA  Florida   \n",
      "freq             1        4438    2200     1025   \n",
      "\n",
      "                                Location Activity  Name  Sex    Age  \\\n",
      "count                               5626     5603  5914  5564  3448   \n",
      "unique                              4020     1484  5118     6   156   \n",
      "top     New Smyrna Beach, Volusia County  Surfing  male     M    17   \n",
      "freq                                 162      966   511  4939   154   \n",
      "\n",
      "             Time     Species  Investigator or Source                     pdf  \\\n",
      "count        2934         3409                   6098                    6114   \n",
      "unique        366         1529                   4837                    6105   \n",
      "top     Afternoon  White shark         C. Moore, GSAF  1898.00.00.R-Syria.pdf   \n",
      "freq          183          161                     95                       2   \n",
      "\n",
      "                                             href formula  \\\n",
      "count                                                6113   \n",
      "unique                                               6104   \n",
      "top     http://sharkattackfile.net/spreadsheets/pdf_di...   \n",
      "freq                                                    2   \n",
      "\n",
      "                                                     href Case Number.1  \\\n",
      "count                                                6114          6114   \n",
      "unique                                               6099          6113   \n",
      "top     http://sharkattackfile.net/spreadsheets/pdf_di...    1952.08.04   \n",
      "freq                                                    4             2   \n",
      "\n",
      "       Case Number.2   Unnamed: 22 Unnamed: 23  \n",
      "count           6114             1           2  \n",
      "unique          6114             1           2  \n",
      "top       2018.06.25  stopped here      Teramo  \n",
      "freq               1             1           1  \n"
     ]
    }
   ],
   "source": [
    "print(\"Los principales datos estadísticos de las variables categóricas son:\", \"\\n\", data.describe(include = \"object\"))"
   ]
  },
  {
   "cell_type": "markdown",
   "metadata": {},
   "source": [
    "¿Cuál es el porcentaje de valores nulos en cada columna?"
   ]
  },
  {
   "cell_type": "code",
   "execution_count": 40,
   "metadata": {},
   "outputs": [
    {
     "name": "stdout",
     "output_type": "stream",
     "text": [
      "El porcentaje de valores nulos en cada columna es: \n",
      " Unnamed: 0                 0.000000\n",
      "Case Number                0.016356\n",
      "Year                       0.000000\n",
      "Type                       0.065424\n",
      "Country                    0.654236\n",
      "Area                       6.673209\n",
      "Location                   7.981681\n",
      "Activity                   8.357867\n",
      "Name                       3.271181\n",
      "Sex                        8.995747\n",
      "Age                       43.604841\n",
      "Time                      52.011776\n",
      "Species                   44.242722\n",
      "Investigator or Source     0.261694\n",
      "pdf                        0.000000\n",
      "href formula               0.016356\n",
      "href                       0.000000\n",
      "Case Number.1              0.000000\n",
      "Case Number.2              0.000000\n",
      "original order             0.000000\n",
      "Unnamed: 22               99.983644\n",
      "Unnamed: 23               99.967288\n",
      "dtype: float64\n"
     ]
    }
   ],
   "source": [
    "total_nulos = data.isnull().sum()\n",
    "porcentaje_nulos = total_nulos / filasycol[0] * 100\n",
    "#print(\"El total de valores nulos en cada columna es:\", \"\\n\", total_nulos)\n",
    "print(\"El porcentaje de valores nulos en cada columna es:\", \"\\n\", porcentaje_nulos)"
   ]
  },
  {
   "cell_type": "markdown",
   "metadata": {},
   "source": [
    "Sacad los valores únicos y su frecuencia de las variables numéricas. Almacenad los resultados en un diccionario. Uno para cada variable."
   ]
  },
  {
   "cell_type": "code",
   "execution_count": 54,
   "metadata": {},
   "outputs": [
    {
     "name": "stdout",
     "output_type": "stream",
     "text": [
      "Los valores únicos de la variable numérica 'unnamed 0' es: [   0    1    2 ... 6129 6130 6131]\n",
      "La frecuencia de valores de la variable numérica 'unnamed 0' es: 0       1\n",
      "4084    1\n",
      "4093    1\n",
      "4092    1\n",
      "4091    1\n",
      "       ..\n",
      "2043    1\n",
      "2042    1\n",
      "2041    1\n",
      "2040    1\n",
      "6131    1\n",
      "Length: 6114, dtype: int64\n",
      "Los valores únicos de la variable numérica 'Year' es: [2018. 2017. 2016. 2015. 2014. 2013. 2012. 2011. 2010. 2009. 2008. 2007.\n",
      " 2006. 2005. 2004. 2003. 2002. 2001. 2000. 1999. 1998. 1997. 1996. 1995.\n",
      " 1984. 1994. 1993. 1992. 1991. 1990. 1989. 1969. 1988. 1987. 1986. 1985.\n",
      " 1983. 1982. 1981. 1980. 1979. 1978. 1977. 1976. 1975. 1974. 1973. 1972.\n",
      " 1971. 1970. 1968. 1967. 1966. 1965. 1964. 1963. 1962. 1961. 1960. 1959.\n",
      " 1958. 1957. 1956. 1955. 1954. 1953. 1952. 1951. 1950. 1949. 1948. 1848.\n",
      " 1947. 1946. 1945. 1944. 1943. 1942. 1941. 1940. 1939. 1938. 1937. 1936.\n",
      " 1935. 1934. 1933. 1932. 1931. 1930. 1929. 1928. 1927. 1926. 1925. 1924.\n",
      " 1923. 1922. 1921. 1920. 1919. 1918. 1917. 1916. 1915. 1914. 1913. 1912.\n",
      " 1911. 1910. 1909. 1908. 1907. 1906. 1905. 1904. 1903. 1902. 1901. 1900.\n",
      " 1899. 1898. 1897. 1896. 1895. 1894. 1893. 1892. 1891. 1890. 1889. 1888.\n",
      " 1887. 1886. 1885. 1884. 1883. 1882. 1881. 1880. 1879. 1878. 1877. 1876.\n",
      " 1875. 1874. 1873. 1872. 1871. 1870. 1869. 1868. 1867. 1866. 1865. 1864.\n",
      " 1863. 1862. 1861. 1860. 1859. 1858. 1857. 1856. 1855. 1853. 1852. 1851.\n",
      " 1850. 1849. 1847. 1846. 1845. 1844. 1842. 1841. 1840. 1839. 1837. 1836.\n",
      " 1835. 1834. 1832. 1831. 1830. 1829. 1828. 1827. 1826. 1825. 1823. 1822.\n",
      " 1819. 1818. 1817. 1816. 1815. 1812. 1811. 1810. 1808. 1807. 1805. 1804.\n",
      " 1803. 1802. 1801.]\n",
      "La frecuencia de valores de la variable numérica 'Year' es: 2018.0    1\n",
      "1877.0    1\n",
      "1887.0    1\n",
      "1886.0    1\n",
      "1885.0    1\n",
      "         ..\n",
      "1947.0    1\n",
      "1946.0    1\n",
      "1945.0    1\n",
      "1944.0    1\n",
      "1801.0    1\n",
      "Length: 207, dtype: int64\n",
      "Los valores únicos de la variable numérica 'original order' es: [6303. 6302. 6301. ...  174.  173.  172.]\n",
      "La frecuencia de valores de la variable numérica 'original order' es: 6303.0    1\n",
      "2219.0    1\n",
      "2210.0    1\n",
      "2211.0    1\n",
      "2212.0    1\n",
      "         ..\n",
      "4260.0    1\n",
      "4261.0    1\n",
      "4262.0    1\n",
      "4263.0    1\n",
      "172.0     1\n",
      "Length: 6113, dtype: int64\n"
     ]
    }
   ],
   "source": [
    "#Variable numérica \"unnamed:0\"\n",
    "valores_uni = data[\"Unnamed: 0\"].unique()\n",
    "frecuencia = pd.value_counts(valores_uni)\n",
    "\n",
    "print(\"Los valores únicos de la variable numérica 'unnamed 0' es:\", valores_uni)\n",
    "print(\"La frecuencia de valores de la variable numérica 'unnamed 0' es:\", frecuencia)\n",
    "\n",
    "#Year\n",
    "\n",
    "valores_uni_y = data[\"Year\"].unique()\n",
    "frecuencia_y = pd.value_counts(valores_uni_y)\n",
    "\n",
    "print(\"Los valores únicos de la variable numérica 'Year' es:\", valores_uni_y)\n",
    "print(\"La frecuencia de valores de la variable numérica 'Year' es:\", frecuencia_y)\n",
    "\n",
    "#Original order\n",
    "\n",
    "\n",
    "valores_uni_o = data[\"original order\"].unique()\n",
    "frecuencia_o= pd.value_counts(valores_uni_o)\n",
    "\n",
    "print(\"Los valores únicos de la variable numérica 'original order' es:\", valores_uni_o)\n",
    "print(\"La frecuencia de valores de la variable numérica 'original order' es:\", frecuencia_o)\n"
   ]
  },
  {
   "cell_type": "code",
   "execution_count": 59,
   "metadata": {},
   "outputs": [
    {
     "name": "stdout",
     "output_type": "stream",
     "text": [
      "{(0, 1): (1, 1)}\n"
     ]
    }
   ],
   "source": [
    "# Diccionario {valor único : frecuencia}\n",
    "\n",
    "dicc_unnamed0 = {}\n",
    "\n",
    "lista = list(zip(valores_uni, frecuencia))\n",
    "#print(lista)\n",
    "for par in range(len(lista)):\n",
    "    dicc_unnamed0[lista[0]] = lista[1]\n",
    "\n",
    "print(dicc_unnamed0)"
   ]
  },
  {
   "cell_type": "code",
   "execution_count": null,
   "metadata": {},
   "outputs": [],
   "source": [
    "#Diccionario {valor : frecuencia}"
   ]
  },
  {
   "cell_type": "markdown",
   "metadata": {},
   "source": [
    "\n",
    "\n",
    "\n",
    "\n",
    "\n",
    "Cambiad el nombre de las columnas para que todas estén en minúsculas y reemplazad los espacios por _.\n",
    "Eliminad las columnas de Unnamed: 22 y Unnamed: 23, Case Number.1, Case Number.2, original order, Investigator or Source, pdf, href formula.\n",
    "Establece la columna Case Number como índice del dataframe."
   ]
  }
 ],
 "metadata": {
  "interpreter": {
   "hash": "31f2aee4e71d21fbe5cf8b01ff0e069b9275f58929596ceb00d14d90e3e16cd6"
  },
  "kernelspec": {
   "display_name": "Python 3.6.9 64-bit",
   "language": "python",
   "name": "python3"
  },
  "language_info": {
   "codemirror_mode": {
    "name": "ipython",
    "version": 3
   },
   "file_extension": ".py",
   "mimetype": "text/x-python",
   "name": "python",
   "nbconvert_exporter": "python",
   "pygments_lexer": "ipython3",
   "version": "3.9.7"
  },
  "orig_nbformat": 4
 },
 "nbformat": 4,
 "nbformat_minor": 2
}
