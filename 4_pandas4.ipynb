{
 "cells": [
  {
   "cell_type": "markdown",
   "metadata": {},
   "source": [
    "# 21/04 - Pair Programming Pandas 4 - Tatiana & Lara"
   ]
  },
  {
   "cell_type": "markdown",
   "metadata": {},
   "source": [
    "# Ejercicio 1\n",
    "Cargad el csv que guardasteis ayer."
   ]
  },
  {
   "cell_type": "code",
   "execution_count": 7,
   "metadata": {},
   "outputs": [
    {
     "data": {
      "text/plain": [
       "(6114, 13)"
      ]
     },
     "execution_count": 7,
     "metadata": {},
     "output_type": "execute_result"
    }
   ],
   "source": [
    "import pandas as pd\n",
    "\n",
    "df = pd.read_csv(\"datos_guardados.csv\", index_col= 0)\n",
    "df.shape\n"
   ]
  },
  {
   "cell_type": "markdown",
   "metadata": {},
   "source": [
    "Para evitar posibles errores con los nulos vamos a eliminar todos los nulos del DataFrame."
   ]
  },
  {
   "cell_type": "code",
   "execution_count": 8,
   "metadata": {},
   "outputs": [],
   "source": [
    "df.dropna(inplace = True)"
   ]
  },
  {
   "cell_type": "markdown",
   "metadata": {},
   "source": [
    "¿Cuántas filas se han eliminado en esta línea?"
   ]
  },
  {
   "cell_type": "markdown",
   "metadata": {},
   "source": []
  },
  {
   "cell_type": "code",
   "execution_count": null,
   "metadata": {},
   "outputs": [],
   "source": []
  },
  {
   "cell_type": "code",
   "execution_count": 9,
   "metadata": {},
   "outputs": [
    {
     "data": {
      "text/plain": [
       "(1502, 13)"
      ]
     },
     "execution_count": 9,
     "metadata": {},
     "output_type": "execute_result"
    }
   ],
   "source": [
    "df.shape #De los "
   ]
  },
  {
   "cell_type": "markdown",
   "metadata": {},
   "source": [
    "¿Cuál es el número de ataques que se han producido en Estados Unidos?"
   ]
  },
  {
   "cell_type": "code",
   "execution_count": 31,
   "metadata": {},
   "outputs": [
    {
     "name": "stdout",
     "output_type": "stream",
     "text": [
      "El número de ataques en USA fue :  2200\n"
     ]
    }
   ],
   "source": [
    "datos.columns\n",
    "estados_unidos = datos[datos[\"country\"]==\"USA\"]\n",
    "ataques_usa = estados_unidos.shape[0]\n",
    "print (\"El número de ataques en USA fue : \", ataques_usa)\n"
   ]
  },
  {
   "cell_type": "markdown",
   "metadata": {},
   "source": [
    "¿Cuál es el número de ataques que se han producido en España?"
   ]
  },
  {
   "cell_type": "code",
   "execution_count": 32,
   "metadata": {},
   "outputs": [
    {
     "name": "stdout",
     "output_type": "stream",
     "text": [
      "El número de ataques en España fue :  42\n"
     ]
    }
   ],
   "source": [
    "españa = datos[datos[\"country\"]==\"SPAIN\"]\n",
    "ataques_españa = españa.shape[0]\n",
    "print (\"El número de ataques en España fue : \", ataques_españa)"
   ]
  },
  {
   "cell_type": "markdown",
   "metadata": {},
   "source": [
    "¿En qué regiones de España se han producido los ataques?\n",
    "¿Cuántos ataques se han producido en cada área de España?"
   ]
  },
  {
   "cell_type": "code",
   "execution_count": 40,
   "metadata": {},
   "outputs": [
    {
     "name": "stdout",
     "output_type": "stream",
     "text": [
      "En estas regiones de España se han producido accidentes:  ['Canary Islands' 'CastellÃ³n' 'Majorca' 'Ibiza Island'\n",
      " 'Alicante Province' 'Grand Canary Island' 'Alicante' 'Granada'\n",
      " 'Catalonia' 'Catalunya' 'Costa Blanca' 'CÃ¡diz' 'Valencia'\n",
      " 'Sants-Montjic' 'Valencia ' 'Galica' 'Gran Canaria' 'Balearics'\n",
      " 'MÃ¡laga ' 'Andalucia' 'Galicia' 'Eastern Catalona' nan 'Malaga']\n"
     ]
    }
   ],
   "source": [
    "regiones_españa = españa[\"area\"].unique()\n",
    "print(\"En estas regiones de España se han producido accidentes: \", regiones_españa)\n",
    "for region in regiones_españa:\n",
    "    if region == \"Alicante\"\n",
    "    \n"
   ]
  }
 ],
 "metadata": {
  "interpreter": {
   "hash": "328661ec968ebc77b93161299d44fd1f4547ee33c9a17c5e95f23064c7c08def"
  },
  "kernelspec": {
   "display_name": "Python 3.9.7 ('base')",
   "language": "python",
   "name": "python3"
  },
  "language_info": {
   "codemirror_mode": {
    "name": "ipython",
    "version": 3
   },
   "file_extension": ".py",
   "mimetype": "text/x-python",
   "name": "python",
   "nbconvert_exporter": "python",
   "pygments_lexer": "ipython3",
   "version": "3.9.7"
  },
  "orig_nbformat": 4
 },
 "nbformat": 4,
 "nbformat_minor": 2
}
