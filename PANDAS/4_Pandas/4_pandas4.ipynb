{
 "cells": [
  {
   "cell_type": "markdown",
   "metadata": {},
   "source": [
    "# 21/04 - Pair Programming Pandas 4 - Tatiana & Lara"
   ]
  },
  {
   "cell_type": "markdown",
   "metadata": {},
   "source": [
    "Cargad el csv que guardasteis ayer."
   ]
  },
  {
   "cell_type": "code",
   "execution_count": 19,
   "metadata": {},
   "outputs": [
    {
     "data": {
      "text/html": [
       "<div>\n",
       "<style scoped>\n",
       "    .dataframe tbody tr th:only-of-type {\n",
       "        vertical-align: middle;\n",
       "    }\n",
       "\n",
       "    .dataframe tbody tr th {\n",
       "        vertical-align: top;\n",
       "    }\n",
       "\n",
       "    .dataframe thead th {\n",
       "        text-align: right;\n",
       "    }\n",
       "</style>\n",
       "<table border=\"1\" class=\"dataframe\">\n",
       "  <thead>\n",
       "    <tr style=\"text-align: right;\">\n",
       "      <th></th>\n",
       "      <th>unnamed:_0</th>\n",
       "      <th>year</th>\n",
       "      <th>type</th>\n",
       "      <th>country</th>\n",
       "      <th>area</th>\n",
       "      <th>location</th>\n",
       "      <th>activity</th>\n",
       "      <th>name</th>\n",
       "      <th>sex_</th>\n",
       "      <th>age</th>\n",
       "      <th>time</th>\n",
       "      <th>species_</th>\n",
       "      <th>href</th>\n",
       "    </tr>\n",
       "    <tr>\n",
       "      <th>case_number</th>\n",
       "      <th></th>\n",
       "      <th></th>\n",
       "      <th></th>\n",
       "      <th></th>\n",
       "      <th></th>\n",
       "      <th></th>\n",
       "      <th></th>\n",
       "      <th></th>\n",
       "      <th></th>\n",
       "      <th></th>\n",
       "      <th></th>\n",
       "      <th></th>\n",
       "      <th></th>\n",
       "    </tr>\n",
       "  </thead>\n",
       "  <tbody>\n",
       "    <tr>\n",
       "      <th>2018.06.25</th>\n",
       "      <td>0</td>\n",
       "      <td>2018.0</td>\n",
       "      <td>Boating</td>\n",
       "      <td>USA</td>\n",
       "      <td>California</td>\n",
       "      <td>Oceanside, San Diego County</td>\n",
       "      <td>Paddling</td>\n",
       "      <td>Julie Wolfe</td>\n",
       "      <td>F</td>\n",
       "      <td>57</td>\n",
       "      <td>18h00</td>\n",
       "      <td>White shark</td>\n",
       "      <td>http://sharkattackfile.net/spreadsheets/pdf_di...</td>\n",
       "    </tr>\n",
       "    <tr>\n",
       "      <th>2018.06.18</th>\n",
       "      <td>1</td>\n",
       "      <td>2018.0</td>\n",
       "      <td>Unprovoked</td>\n",
       "      <td>USA</td>\n",
       "      <td>Georgia</td>\n",
       "      <td>St. Simon Island, Glynn County</td>\n",
       "      <td>Standing</td>\n",
       "      <td>AdysonÂ McNeely</td>\n",
       "      <td>F</td>\n",
       "      <td>11</td>\n",
       "      <td>14h00  -15h00</td>\n",
       "      <td>NaN</td>\n",
       "      <td>http://sharkattackfile.net/spreadsheets/pdf_di...</td>\n",
       "    </tr>\n",
       "    <tr>\n",
       "      <th>2018.06.09</th>\n",
       "      <td>2</td>\n",
       "      <td>2018.0</td>\n",
       "      <td>Invalid</td>\n",
       "      <td>USA</td>\n",
       "      <td>Hawaii</td>\n",
       "      <td>Habush, Oahu</td>\n",
       "      <td>Surfing</td>\n",
       "      <td>John Denges</td>\n",
       "      <td>M</td>\n",
       "      <td>48</td>\n",
       "      <td>07h45</td>\n",
       "      <td>NaN</td>\n",
       "      <td>http://sharkattackfile.net/spreadsheets/pdf_di...</td>\n",
       "    </tr>\n",
       "    <tr>\n",
       "      <th>2018.06.08</th>\n",
       "      <td>3</td>\n",
       "      <td>2018.0</td>\n",
       "      <td>Unprovoked</td>\n",
       "      <td>AUSTRALIA</td>\n",
       "      <td>New South Wales</td>\n",
       "      <td>Arrawarra Headland</td>\n",
       "      <td>Surfing</td>\n",
       "      <td>male</td>\n",
       "      <td>M</td>\n",
       "      <td>NaN</td>\n",
       "      <td>NaN</td>\n",
       "      <td>2 m shark</td>\n",
       "      <td>http://sharkattackfile.net/spreadsheets/pdf_di...</td>\n",
       "    </tr>\n",
       "    <tr>\n",
       "      <th>2018.06.04</th>\n",
       "      <td>4</td>\n",
       "      <td>2018.0</td>\n",
       "      <td>Provoked</td>\n",
       "      <td>MEXICO</td>\n",
       "      <td>Colima</td>\n",
       "      <td>La Ticla</td>\n",
       "      <td>Free diving</td>\n",
       "      <td>Gustavo Ramos</td>\n",
       "      <td>M</td>\n",
       "      <td>NaN</td>\n",
       "      <td>NaN</td>\n",
       "      <td>Tiger shark, 3m</td>\n",
       "      <td>http://sharkattackfile.net/spreadsheets/pdf_di...</td>\n",
       "    </tr>\n",
       "  </tbody>\n",
       "</table>\n",
       "</div>"
      ],
      "text/plain": [
       "             unnamed:_0    year        type    country             area  \\\n",
       "case_number                                                               \n",
       "2018.06.25            0  2018.0     Boating        USA       California   \n",
       "2018.06.18            1  2018.0  Unprovoked        USA          Georgia   \n",
       "2018.06.09            2  2018.0     Invalid        USA           Hawaii   \n",
       "2018.06.08            3  2018.0  Unprovoked  AUSTRALIA  New South Wales   \n",
       "2018.06.04            4  2018.0    Provoked     MEXICO           Colima   \n",
       "\n",
       "                                   location     activity              name  \\\n",
       "case_number                                                                  \n",
       "2018.06.25      Oceanside, San Diego County     Paddling       Julie Wolfe   \n",
       "2018.06.18   St. Simon Island, Glynn County     Standing  AdysonÂ McNeely    \n",
       "2018.06.09                     Habush, Oahu      Surfing       John Denges   \n",
       "2018.06.08               Arrawarra Headland      Surfing              male   \n",
       "2018.06.04                         La Ticla  Free diving    Gustavo Ramos    \n",
       "\n",
       "            sex_  age           time         species_  \\\n",
       "case_number                                             \n",
       "2018.06.25     F   57          18h00      White shark   \n",
       "2018.06.18     F   11  14h00  -15h00              NaN   \n",
       "2018.06.09     M   48          07h45              NaN   \n",
       "2018.06.08     M  NaN            NaN        2 m shark   \n",
       "2018.06.04     M  NaN            NaN  Tiger shark, 3m   \n",
       "\n",
       "                                                          href  \n",
       "case_number                                                     \n",
       "2018.06.25   http://sharkattackfile.net/spreadsheets/pdf_di...  \n",
       "2018.06.18   http://sharkattackfile.net/spreadsheets/pdf_di...  \n",
       "2018.06.09   http://sharkattackfile.net/spreadsheets/pdf_di...  \n",
       "2018.06.08   http://sharkattackfile.net/spreadsheets/pdf_di...  \n",
       "2018.06.04   http://sharkattackfile.net/spreadsheets/pdf_di...  "
      ]
     },
     "execution_count": 19,
     "metadata": {},
     "output_type": "execute_result"
    }
   ],
   "source": [
    "import pandas as pd\n",
    "\n",
    "datos = pd.read_csv(\"datos_guardados.csv\", index_col= 0)\n",
    "datos.head()\n"
   ]
  },
  {
   "cell_type": "code",
   "execution_count": 18,
   "metadata": {},
   "outputs": [
    {
     "ename": "AttributeError",
     "evalue": "'NoneType' object has no attribute 'dropna'",
     "output_type": "error",
     "traceback": [
      "\u001b[0;31m---------------------------------------------------------------------------\u001b[0m",
      "\u001b[0;31mAttributeError\u001b[0m                            Traceback (most recent call last)",
      "\u001b[1;32m/mnt/c/Users/USUARIO/Desktop/Adalab/DA-promo-A-module-2-pairprog-1-pair-1-Tatiana_Lara/4_pandas4.ipynb Cell 4'\u001b[0m in \u001b[0;36m<cell line: 1>\u001b[0;34m()\u001b[0m\n\u001b[0;32m----> <a href='vscode-notebook-cell://wsl%2Bubuntu-18.04/mnt/c/Users/USUARIO/Desktop/Adalab/DA-promo-A-module-2-pairprog-1-pair-1-Tatiana_Lara/4_pandas4.ipynb#ch0000005vscode-remote?line=0'>1</a>\u001b[0m datos1 \u001b[39m=\u001b[39m datos\u001b[39m.\u001b[39;49mdropna(inplace \u001b[39m=\u001b[39m \u001b[39mTrue\u001b[39;00m)\n\u001b[1;32m      <a href='vscode-notebook-cell://wsl%2Bubuntu-18.04/mnt/c/Users/USUARIO/Desktop/Adalab/DA-promo-A-module-2-pairprog-1-pair-1-Tatiana_Lara/4_pandas4.ipynb#ch0000005vscode-remote?line=1'>2</a>\u001b[0m \u001b[39mprint\u001b[39m(datos1)\n",
      "\u001b[0;31mAttributeError\u001b[0m: 'NoneType' object has no attribute 'dropna'"
     ]
    }
   ],
   "source": []
  },
  {
   "cell_type": "markdown",
   "metadata": {},
   "source": [
    "¿Cuál es el número de ataques que se han producido en Estados Unidos?"
   ]
  },
  {
   "cell_type": "code",
   "execution_count": 31,
   "metadata": {},
   "outputs": [
    {
     "name": "stdout",
     "output_type": "stream",
     "text": [
      "El número de ataques en USA fue :  2200\n"
     ]
    }
   ],
   "source": [
    "datos.columns\n",
    "estados_unidos = datos[datos[\"country\"]==\"USA\"]\n",
    "ataques_usa = estados_unidos.shape[0]\n",
    "print (\"El número de ataques en USA fue : \", ataques_usa)\n"
   ]
  },
  {
   "cell_type": "markdown",
   "metadata": {},
   "source": [
    "¿Cuál es el número de ataques que se han producido en España?"
   ]
  },
  {
   "cell_type": "code",
   "execution_count": 32,
   "metadata": {},
   "outputs": [
    {
     "name": "stdout",
     "output_type": "stream",
     "text": [
      "El número de ataques en España fue :  42\n"
     ]
    }
   ],
   "source": [
    "españa = datos[datos[\"country\"]==\"SPAIN\"]\n",
    "ataques_españa = españa.shape[0]\n",
    "print (\"El número de ataques en España fue : \", ataques_españa)"
   ]
  },
  {
   "cell_type": "markdown",
   "metadata": {},
   "source": [
    "¿En qué regiones de España se han producido los ataques?\n",
    "¿Cuántos ataques se han producido en cada área de España?"
   ]
  },
  {
   "cell_type": "code",
   "execution_count": 40,
   "metadata": {},
   "outputs": [
    {
     "name": "stdout",
     "output_type": "stream",
     "text": [
      "En estas regiones de España se han producido accidentes:  ['Canary Islands' 'CastellÃ³n' 'Majorca' 'Ibiza Island'\n",
      " 'Alicante Province' 'Grand Canary Island' 'Alicante' 'Granada'\n",
      " 'Catalonia' 'Catalunya' 'Costa Blanca' 'CÃ¡diz' 'Valencia'\n",
      " 'Sants-Montjic' 'Valencia ' 'Galica' 'Gran Canaria' 'Balearics'\n",
      " 'MÃ¡laga ' 'Andalucia' 'Galicia' 'Eastern Catalona' nan 'Malaga']\n"
     ]
    }
   ],
   "source": [
    "regiones_españa = españa[\"area\"].unique()\n",
    "print(\"En estas regiones de España se han producido accidentes: \", regiones_españa)\n",
    "for region in regiones_españa:\n",
    "    if region == \"Alicante\"\n",
    "    \n"
   ]
  }
 ],
 "metadata": {
  "interpreter": {
   "hash": "328661ec968ebc77b93161299d44fd1f4547ee33c9a17c5e95f23064c7c08def"
  },
  "kernelspec": {
   "display_name": "Python 3.9.7 ('base')",
   "language": "python",
   "name": "python3"
  },
  "language_info": {
   "codemirror_mode": {
    "name": "ipython",
    "version": 3
   },
   "file_extension": ".py",
   "mimetype": "text/x-python",
   "name": "python",
   "nbconvert_exporter": "python",
   "pygments_lexer": "ipython3",
   "version": "3.9.7"
  },
  "orig_nbformat": 4
 },
 "nbformat": 4,
 "nbformat_minor": 2
}
