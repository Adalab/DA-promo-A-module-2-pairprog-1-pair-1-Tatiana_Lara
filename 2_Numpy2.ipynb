{
 "cells": [
  {
   "cell_type": "markdown",
   "metadata": {},
   "source": [
    "Cread un array de dos dimensiones de 5 filas y 3 columnas. Sobre el array creado anteriormente, extraed:\n",
    "El valor de la primera fila y la segunda columna.\n",
    "Los valores de la segunda fila y las dos primeras columnas.\n",
    "Extraed las filas pares (incluyendo la 0) y todas las columnas.\n",
    "Extraed los valores que sean mayores que 0.5.\n",
    "Extraed los valores menores que 0.2 o mayores que 0.5"
   ]
  },
  {
   "cell_type": "code",
   "execution_count": 12,
   "metadata": {},
   "outputs": [
    {
     "name": "stdout",
     "output_type": "stream",
     "text": [
      "Esta es la fila 1, columna 2:  0.6910127928700576\n",
      "\n",
      "\n",
      "Esta es la segunda fila y 2 primeras columnas:  [0.84294795 0.35356024]\n",
      "\n",
      "\n",
      "Estas son las filas pares y todas las columnas.  [[0.43568415 0.69101279 0.09684587]\n",
      " [0.81501614 0.23797807 0.35044719]\n",
      " [0.54291225 0.08732191 0.07055735]]\n",
      "\n",
      "\n",
      "Estos son los valores mayores que 0.5. [0.69101279 0.84294795 0.7704229  0.81501614 0.83669202 0.54872675\n",
      " 0.54291225]\n",
      "\n",
      "\n",
      "Estos son los valores menores que 0.2 o mayores que 0.5 [0.69101279 0.09684587 0.84294795 0.7704229  0.81501614 0.83669202\n",
      " 0.54872675 0.54291225 0.08732191 0.07055735]\n"
     ]
    }
   ],
   "source": [
    "import numpy as np\n",
    "array_bidimensional= np.random.rand(5,3)\n",
    "array_bidimensional\n",
    "\n",
    "print(\"Esta es la fila 1, columna 2: \", array_bidimensional[0,1])\n",
    "print(\"\\n\")\n",
    "print(\"Esta es la segunda fila y 2 primeras columnas: \", array_bidimensional[1,:2])\n",
    "print(\"\\n\")\n",
    "print(\"Estas son las filas pares y todas las columnas. \", array_bidimensional[::2,:])\n",
    "print(\"\\n\")\n",
    "print(\"Estos son los valores mayores que 0.5.\", array_bidimensional[array_bidimensional>0.5])\n",
    "print(\"\\n\")\n",
    "print(\"Estos son los valores menores que 0.2 o mayores que 0.5\", array_bidimensional [(array_bidimensional<0.2)|(array_bidimensional>0.5)])"
   ]
  },
  {
   "cell_type": "markdown",
   "metadata": {},
   "source": [
    "Cread dos array de tres dimensiones:\n",
    " El primero de 2 matrices, 5 filas y 3 columnas.\n",
    " El segundo de 3 matrices, 2 filas y 5 columnas\n",
    "Haced un análisis exploratorio de los array creados"
   ]
  },
  {
   "cell_type": "code",
   "execution_count": 19,
   "metadata": {},
   "outputs": [
    {
     "name": "stdout",
     "output_type": "stream",
     "text": [
      "Análisis exploratorio Primer Array\n",
      "('La forma es:', (2, 5, 3)) \n",
      " ('El tamaño es:', 30) \n",
      " ('El número de dimensiones es:', 3) \n",
      " ('El tipo de datos es:', dtype('int64'))\n",
      "\n",
      "\n",
      "Análisis exploratorio Segundo Array\n",
      "('La forma es:', (3, 2, 5)) \n",
      " ('El tamaño es:', 30) \n",
      " ('El número de dimensiones es:', 3) \n",
      " ('El tipo de datos es:', dtype('int64'))\n"
     ]
    }
   ],
   "source": [
    "array_1= np.random.randint(0,100, (2,5,3))\n",
    "array_2= np.random.randint(0,100, (3,2,5))\n",
    "\n",
    "#FUNCIÓN\n",
    "\n",
    "def propiedades (array):\n",
    "    a = (\"La forma es:\", array.shape)\n",
    "    b = (\"El tamaño es:\", array.size)\n",
    "    c = (\"El número de dimensiones es:\", array.ndim) \n",
    "    d = (\"El tipo de datos es:\", array.dtype)\n",
    "    \n",
    "    print(a, \"\\n\", b, \"\\n\", c, \"\\n\", d)\n",
    "print(\"Análisis exploratorio Primer Array\")\n",
    "propiedades(array_1)\n",
    "print(\"\\n\")\n",
    "print(\"Análisis exploratorio Segundo Array\")\n",
    "propiedades(array_2)"
   ]
  },
  {
   "cell_type": "code",
   "execution_count": 21,
   "metadata": {},
   "outputs": [
    {
     "ename": "ValueError",
     "evalue": "operands could not be broadcast together with shapes (2,5,3) (3,2,5) ",
     "output_type": "error",
     "traceback": [
      "\u001b[0;31m---------------------------------------------------------------------------\u001b[0m",
      "\u001b[0;31mValueError\u001b[0m                                Traceback (most recent call last)",
      "\u001b[1;32m/mnt/c/Users/USUARIO/Desktop/Adalab/DA-promo-A-module-2-pairprog-1-pair-1-Tatiana_Lara/2_Numpy2.ipynb Cell 5'\u001b[0m in \u001b[0;36m<cell line: 2>\u001b[0;34m()\u001b[0m\n\u001b[1;32m      <a href='vscode-notebook-cell://wsl%2Bubuntu-18.04/mnt/c/Users/USUARIO/Desktop/Adalab/DA-promo-A-module-2-pairprog-1-pair-1-Tatiana_Lara/2_Numpy2.ipynb#ch0000004vscode-remote?line=0'>1</a>\u001b[0m \u001b[39m#Sumad los dos arrays. ¿Podéis? ¿Por qué?\u001b[39;00m\n\u001b[0;32m----> <a href='vscode-notebook-cell://wsl%2Bubuntu-18.04/mnt/c/Users/USUARIO/Desktop/Adalab/DA-promo-A-module-2-pairprog-1-pair-1-Tatiana_Lara/2_Numpy2.ipynb#ch0000004vscode-remote?line=1'>2</a>\u001b[0m Suma\u001b[39m=\u001b[39m array_1\u001b[39m+\u001b[39;49m array_2\n",
      "\u001b[0;31mValueError\u001b[0m: operands could not be broadcast together with shapes (2,5,3) (3,2,5) "
     ]
    }
   ],
   "source": [
    "#Sumad los dos arrays. ¿Podéis? ¿Por qué?\n",
    "#Suma= array_1+ array_2\n",
    "#No se pueden sumar estos dos arrays puesto que tienen formas distintas."
   ]
  },
  {
   "cell_type": "markdown",
   "metadata": {},
   "source": [
    "Utiliza las funciones .reshape().transpose() para cambiar la forma de los array y hacer operaciones entre ellos"
   ]
  },
  {
   "cell_type": "code",
   "execution_count": 32,
   "metadata": {},
   "outputs": [
    {
     "data": {
      "text/plain": [
       "array([[[ 72,  67, 132],\n",
       "        [ 79,  59,  83],\n",
       "        [147,  97, 101],\n",
       "        [168, 105,  85],\n",
       "        [ 54, 102, 101]],\n",
       "\n",
       "       [[147,  53,  52],\n",
       "        [ 69, 100, 103],\n",
       "        [131,  96,  35],\n",
       "        [ 63, 160, 104],\n",
       "        [ 56, 151,  87]]])"
      ]
     },
     "execution_count": 32,
     "metadata": {},
     "output_type": "execute_result"
    }
   ],
   "source": [
    "#transformar con transpose() para poder sumar\n",
    "array_2_transpuesto= np.transpose(array_2,(1,2,0))\n",
    "array_2_transpuesto\n",
    "\n",
    "suma_a= array_2_transpuesto + array_1\n",
    "suma_a"
   ]
  },
  {
   "cell_type": "code",
   "execution_count": 31,
   "metadata": {},
   "outputs": [
    {
     "data": {
      "text/plain": [
       "array([[[ 72,  46, 118],\n",
       "        [113,  54,  74],\n",
       "        [ 89,  98,  83],\n",
       "        [135, 147,  78],\n",
       "        [113,  68,  67]],\n",
       "\n",
       "       [[122,  60,  91],\n",
       "        [109, 118, 111],\n",
       "        [136,  96,  43],\n",
       "        [118, 106, 172],\n",
       "        [ 22, 113,  87]]])"
      ]
     },
     "execution_count": 31,
     "metadata": {},
     "output_type": "execute_result"
    }
   ],
   "source": [
    "#transformar con reshape() para poder sumar\n",
    "array_2_reshaped= array_2.reshape((2,5,3))\n",
    "array_2_reshaped\n",
    "\n",
    "sumar_b= array_1 + array_2_reshaped\n",
    "sumar_b"
   ]
  }
 ],
 "metadata": {
  "interpreter": {
   "hash": "328661ec968ebc77b93161299d44fd1f4547ee33c9a17c5e95f23064c7c08def"
  },
  "kernelspec": {
   "display_name": "Python 3.9.7 ('base')",
   "language": "python",
   "name": "python3"
  },
  "language_info": {
   "codemirror_mode": {
    "name": "ipython",
    "version": 3
   },
   "file_extension": ".py",
   "mimetype": "text/x-python",
   "name": "python",
   "nbconvert_exporter": "python",
   "pygments_lexer": "ipython3",
   "version": "3.9.7"
  },
  "orig_nbformat": 4
 },
 "nbformat": 4,
 "nbformat_minor": 2
}
