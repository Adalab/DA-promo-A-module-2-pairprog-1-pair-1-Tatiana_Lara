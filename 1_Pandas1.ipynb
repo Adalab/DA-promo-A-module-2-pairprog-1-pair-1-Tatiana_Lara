{
 "cells": [
  {
   "cell_type": "markdown",
   "metadata": {},
   "source": [
    "# 18/04 - Pair Programming Pandas 1 - Tatiana & Lara"
   ]
  },
  {
   "cell_type": "code",
   "execution_count": 2,
   "metadata": {},
   "outputs": [],
   "source": [
    "import pandas as pd\n",
    "import numpy as np\n",
    "import random "
   ]
  },
  {
   "cell_type": "markdown",
   "metadata": {},
   "source": []
  },
  {
   "cell_type": "markdown",
   "metadata": {},
   "source": [
    "¿Qué diferencia hay entre una Serie y un Dataframe?\n",
    "\n",
    "Una serie es una estructura de datos de una dimensión, un dataframe de dos dimensiones (filas y columnas)."
   ]
  },
  {
   "cell_type": "markdown",
   "metadata": {},
   "source": [
    "# 1. SERIES"
   ]
  },
  {
   "cell_type": "markdown",
   "metadata": {},
   "source": [
    "Crea dos listas:\n",
    "Una que se llame \"valores\" que tenga 7 números aleatorios.\n",
    "Otra que se llame \"indices\" que tenga 7 strings que se llamen como los dias de la semana."
   ]
  },
  {
   "cell_type": "code",
   "execution_count": 3,
   "metadata": {},
   "outputs": [
    {
     "name": "stdout",
     "output_type": "stream",
     "text": [
      "[3, 6, 0, 1, 5, 0, 5]\n",
      "['lunes', 'martes', 'miercoles', 'jueves', 'viernes', 'sabado', 'domingo']\n"
     ]
    }
   ],
   "source": [
    "valores = [random.randint(0,7) for x in range(7)] \n",
    "indices = [\"lunes\", \"martes\", \"miercoles\", \"jueves\", \"viernes\", \"sabado\", \"domingo\"]\n",
    "print(valores)\n",
    "print(indices)"
   ]
  },
  {
   "cell_type": "markdown",
   "metadata": {},
   "source": [
    "A partir de estas dos listas crea una Serie donde la variable \"valores\" sean los valores de la Serie y la variable indices sean los índices de la Serie."
   ]
  },
  {
   "cell_type": "code",
   "execution_count": 4,
   "metadata": {},
   "outputs": [
    {
     "name": "stdout",
     "output_type": "stream",
     "text": [
      "lunes        3\n",
      "martes       6\n",
      "miercoles    0\n",
      "jueves       1\n",
      "viernes      5\n",
      "sabado       0\n",
      "domingo      5\n",
      "dtype: int64\n"
     ]
    }
   ],
   "source": [
    "serie = pd.Series(valores, index = indices)\n",
    "print(serie)"
   ]
  },
  {
   "cell_type": "markdown",
   "metadata": {},
   "source": [
    "A partir de las dos listas anteriores crea un diccionario usando un for. Para hacer esto tenemos el método zip que nos permite iterar por dos listas a la vez. "
   ]
  },
  {
   "cell_type": "code",
   "execution_count": 5,
   "metadata": {},
   "outputs": [
    {
     "name": "stdout",
     "output_type": "stream",
     "text": [
      "{'lunes': 3, 'martes': 6, 'miercoles': 0, 'jueves': 1, 'viernes': 5, 'sabado': 0, 'domingo': 5}\n"
     ]
    }
   ],
   "source": [
    "dicc = {} \n",
    "\n",
    "for indice, valor in zip(indices, valores):\n",
    "    dicc[indice] = valor\n",
    "      \n",
    "print(dicc)\n"
   ]
  },
  {
   "cell_type": "markdown",
   "metadata": {},
   "source": [
    "\n",
    "\n",
    "Crea una Serie con el diccionario creado en el punto anterior.\n",
    "¿Qué forma tiene esta última Serie?\n",
    "¿Qué tipo de datos tiene?\n",
    "¿Qué tamaño tiene?\n",
    "¿Cuáles son los índices de la Serie?\n",
    "¿Y los values?\n"
   ]
  },
  {
   "cell_type": "code",
   "execution_count": 6,
   "metadata": {},
   "outputs": [
    {
     "name": "stdout",
     "output_type": "stream",
     "text": [
      "lunes        3\n",
      "martes       6\n",
      "miercoles    0\n",
      "jueves       1\n",
      "viernes      5\n",
      "sabado       0\n",
      "domingo      5\n",
      "dtype: int64\n",
      "1. La serie tiene la siguiente forma: (7,)\n",
      "2. La serie tiene este tipo de datos: int64\n",
      "3. La serie tiene tamaño: 7\n",
      "Los índices de la serie son: Index(['lunes', 'martes', 'miercoles', 'jueves', 'viernes', 'sabado',\n",
      "       'domingo'],\n",
      "      dtype='object')\n",
      "Los valores de la serie son: [3 6 0 1 5 0 5]\n"
     ]
    }
   ],
   "source": [
    "serie_dicc = pd.Series(dicc)\n",
    "print(serie_dicc)\n",
    "\n",
    "print(\"1. La serie tiene la siguiente forma:\", serie_dicc.shape)\n",
    "print(\"2. La serie tiene este tipo de datos:\",serie_dicc.dtype)\n",
    "print(\"3. La serie tiene tamaño:\", serie_dicc.size)\n",
    "\n",
    "\n",
    "print(\"Los índices de la serie son:\", serie_dicc.index)\n",
    "print(\"Los valores de la serie son:\", serie_dicc.values)"
   ]
  },
  {
   "cell_type": "markdown",
   "metadata": {},
   "source": [
    "Extraed el valor para el índice \"lunes\"\n",
    "Extraed el valor para el índice \"lunes\", \"martes\" y \"miércoles\"\n",
    "Extraed el valor para el índice \"lunes\" y \"domingo\""
   ]
  },
  {
   "cell_type": "code",
   "execution_count": 12,
   "metadata": {},
   "outputs": [
    {
     "name": "stdout",
     "output_type": "stream",
     "text": [
      "El valor del índice 'lunes' es: 3\n",
      "El valor de los índices 'lunes', 'martes', 'miércoles' es: lunes        3\n",
      "martes       6\n",
      "miercoles    0\n",
      "dtype: int64\n",
      "El valor de los índices 'lunes' y 'domingo' es: lunes      3\n",
      "domingo    5\n",
      "dtype: int64\n"
     ]
    }
   ],
   "source": [
    "valor_lunes = serie_dicc[\"lunes\"]\n",
    "print(\"El valor del índice 'lunes' es:\", valor_lunes)\n",
    "\n",
    "\n",
    "valor_lmx = serie_dicc[[0, 1, 2]] #0:3\n",
    "print(\"El valor de los índices 'lunes', 'martes', 'miércoles' es:\", valor_lmx)\n",
    "\n",
    "\n",
    "valor_ld = serie_dicc[[0, -1]]\n",
    "print(\"El valor de los índices 'lunes' y 'domingo' es:\", valor_ld)"
   ]
  },
  {
   "cell_type": "markdown",
   "metadata": {},
   "source": [
    "# 2. Dataframes\n"
   ]
  },
  {
   "cell_type": "markdown",
   "metadata": {},
   "source": [
    "Cread un array de dos dimensiones con 4 filas y 3 columnas.\n"
   ]
  },
  {
   "cell_type": "code",
   "execution_count": 25,
   "metadata": {},
   "outputs": [
    {
     "name": "stdout",
     "output_type": "stream",
     "text": [
      "object\n",
      "1\n"
     ]
    },
    {
     "name": "stderr",
     "output_type": "stream",
     "text": [
      "/home/adalaber/.local/lib/python3.6/site-packages/ipykernel_launcher.py:4: VisibleDeprecationWarning: Creating an ndarray from ragged nested sequences (which is a list-or-tuple of lists-or-tuples-or ndarrays with different lengths or shapes) is deprecated. If you meant to do this, you must specify 'dtype=object' when creating the ndarray\n",
      "  after removing the cwd from sys.path.\n"
     ]
    }
   ],
   "source": [
    "lista_1 = [1, 2, 3, 4]\n",
    "lista_2 = [1, 2, 3]\n",
    "\n",
    "array = np.array([lista_1, lista_2])\n",
    "print(array.dtype)\n",
    "\n",
    "print(array.ndim)"
   ]
  },
  {
   "cell_type": "markdown",
   "metadata": {},
   "source": [
    "Convertid el array en un dataframe donde las columnas se llamen \"España\", \"Francia\" e \"Italia\"."
   ]
  }
 ],
 "metadata": {
  "interpreter": {
   "hash": "31f2aee4e71d21fbe5cf8b01ff0e069b9275f58929596ceb00d14d90e3e16cd6"
  },
  "kernelspec": {
   "display_name": "Python 3.6.9 64-bit",
   "language": "python",
   "name": "python3"
  },
  "language_info": {
   "codemirror_mode": {
    "name": "ipython",
    "version": 3
   },
   "file_extension": ".py",
   "mimetype": "text/x-python",
   "name": "python",
   "nbconvert_exporter": "python",
   "pygments_lexer": "ipython3",
   "version": "3.6.9"
  },
  "orig_nbformat": 4
 },
 "nbformat": 4,
 "nbformat_minor": 2
}
