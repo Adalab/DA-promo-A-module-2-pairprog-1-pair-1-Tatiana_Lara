{
 "cells": [
  {
   "cell_type": "code",
   "execution_count": null,
   "metadata": {},
   "outputs": [],
   "source": []
  },
  {
   "cell_type": "markdown",
   "metadata": {},
   "source": [
    "Cread un array de tres dimensiones de 2 matrices, 3 filas y 5 columnas cuyos valores solo tengan 1 decimales. Sobre el array creado anteriormente, extraed"
   ]
  },
  {
   "cell_type": "markdown",
   "metadata": {},
   "source": [
    "# 20/04 - Pair Programming Numpy 3 - Tatiana & Lara"
   ]
  },
  {
   "cell_type": "code",
   "execution_count": 8,
   "metadata": {},
   "outputs": [
    {
     "data": {
      "text/plain": [
       "array([[[0.4, 0.2, 0.2, 0.8, 0.2],\n",
       "        [0.1, 0.2, 0.5, 0.2, 0.9],\n",
       "        [0.8, 0.9, 0.9, 0.2, 0.8]],\n",
       "\n",
       "       [[0.5, 0.1, 0.6, 0.6, 0.3],\n",
       "        [0.9, 0.9, 0.4, 0.9, 0.8],\n",
       "        [0.4, 1. , 0.9, 0.4, 0.1]]])"
      ]
     },
     "execution_count": 8,
     "metadata": {},
     "output_type": "execute_result"
    }
   ],
   "source": [
    "import numpy as np\n",
    "\n",
    "array_1 = np.round(np.random.rand(2, 3, 5), decimals = 1)\n",
    "array_1"
   ]
  },
  {
   "cell_type": "markdown",
   "metadata": {},
   "source": [
    "Calculad la media del array y almacenarlos en una variable. Redondead a un decimal."
   ]
  },
  {
   "cell_type": "code",
   "execution_count": 7,
   "metadata": {},
   "outputs": [
    {
     "data": {
      "text/plain": [
       "0.6"
      ]
     },
     "execution_count": 7,
     "metadata": {},
     "output_type": "execute_result"
    }
   ],
   "source": [
    "media = np.round(np.mean(array_1), decimals = 1)\n",
    "media "
   ]
  },
  {
   "cell_type": "markdown",
   "metadata": {},
   "source": [
    "Calculad el valor máximo del array y almacenarlos en una variable. Redondead a un decimal."
   ]
  },
  {
   "cell_type": "code",
   "execution_count": 10,
   "metadata": {},
   "outputs": [
    {
     "data": {
      "text/plain": [
       "1.0"
      ]
     },
     "execution_count": 10,
     "metadata": {},
     "output_type": "execute_result"
    }
   ],
   "source": [
    "maximo = np.round(np.max(array_1), decimals = 1)\n",
    "maximo"
   ]
  },
  {
   "cell_type": "markdown",
   "metadata": {},
   "source": [
    "Calculad el valor mínimo del array y almacenarlos en una variable. Redondead a un decimal."
   ]
  },
  {
   "cell_type": "code",
   "execution_count": 11,
   "metadata": {},
   "outputs": [
    {
     "data": {
      "text/plain": [
       "0.1"
      ]
     },
     "execution_count": 11,
     "metadata": {},
     "output_type": "execute_result"
    }
   ],
   "source": [
    "minimo = np.round(np.min(array_1), decimals = 1)\n",
    "minimo"
   ]
  },
  {
   "cell_type": "markdown",
   "metadata": {},
   "source": [
    "Cread un array vacío con la misma forma y dimensiones que el array creado anteriormente."
   ]
  },
  {
   "cell_type": "code",
   "execution_count": 12,
   "metadata": {},
   "outputs": [
    {
     "data": {
      "text/plain": [
       "array([[[0.4, 0.2, 0.2, 0.8, 0.2],\n",
       "        [0.1, 0.2, 0.5, 0.2, 0.9],\n",
       "        [0.8, 0.9, 0.9, 0.2, 0.8]],\n",
       "\n",
       "       [[0.5, 0.1, 0.6, 0.6, 0.3],\n",
       "        [0.9, 0.9, 0.4, 0.9, 0.8],\n",
       "        [0.4, 1. , 0.9, 0.4, 0.1]]])"
      ]
     },
     "execution_count": 12,
     "metadata": {},
     "output_type": "execute_result"
    }
   ],
   "source": [
    "array_2 = np.empty_like(array_1)\n",
    "array_2"
   ]
  },
  {
   "cell_type": "markdown",
   "metadata": {},
   "source": [
    "Vamos a reemplazar los valores de la matriz vacía que nos acabamos de crear pero basándonos en los valores del primer array bajo las siguientes condiciones:\n",
    "Si el valor del array es igual que la media, se reemplaza por \"A\".\n",
    "Si el valor del array es mayor que la media, se reemplaza por \"B\".\n",
    "Si el valor del array es menor que la media, se reemplaza por \"C\".\n",
    "Si el valor es igual que el máximo, se reemplaza por \"D\".\n",
    "Si el valor es igual que el mínimo, se reemplaza por \"E\"."
   ]
  },
  {
   "cell_type": "code",
   "execution_count": 25,
   "metadata": {},
   "outputs": [
    {
     "data": {
      "text/plain": [
       "array([[[0.4, 0.2, 0.2, 0.8, 0.2],\n",
       "        [0.1, 0.2, 0.5, 0.2, 0.9],\n",
       "        [0.8, 0.9, 0.9, 0.2, 0.8]],\n",
       "\n",
       "       [[0.5, 0.1, 0.6, 0.6, 0.3],\n",
       "        [0.9, 0.9, 0.4, 0.9, 0.8],\n",
       "        [0.4, 1. , 0.9, 0.4, 0.1]]])"
      ]
     },
     "execution_count": 25,
     "metadata": {},
     "output_type": "execute_result"
    }
   ],
   "source": [
    "for elemento_uno in np.nditer(array_1):\n",
    "    if elemento_uno == media:\n",
    "        \n",
    "        replace()\n",
    "array_1"
   ]
  },
  {
   "cell_type": "code",
   "execution_count": null,
   "metadata": {},
   "outputs": [],
   "source": [
    "i=0\n",
    "j=0\n",
    "k=0\n",
    "array_2[i][j][k]\n",
    "array_1[i][j][k]\n",
    "while \n"
   ]
  },
  {
   "cell_type": "code",
   "execution_count": 24,
   "metadata": {},
   "outputs": [
    {
     "data": {
      "text/plain": [
       "array([[[0.4, 0.2, 0.2, 0.8, 0.2],\n",
       "        [0.1, 0.2, 0.5, 0.2, 0.9],\n",
       "        [0.8, 0.9, 0.9, 0.2, 0.8]],\n",
       "\n",
       "       [[0.5, 0.1, 0.6, 0.6, 0.3],\n",
       "        [0.9, 0.9, 0.4, 0.9, 0.8],\n",
       "        [0.4, 1. , 0.9, 0.4, 0.1]]])"
      ]
     },
     "execution_count": 24,
     "metadata": {},
     "output_type": "execute_result"
    }
   ],
   "source": [
    "for elemento_uno in np.nditer(array_1):\n",
    "    #for elemento in np.nditer(array_1):\n",
    "    if elemento_uno == media:\n",
    "        elemento_uno == \"A\"\n",
    "    #if elemento_uno > media:\n",
    "        elemento_uno = \"B\"\n",
    "    #if elemento_uno < media:\n",
    "        elemento_uno = \"C\"\n",
    "    if elemento_uno == maximo:\n",
    "        elemento_uno = \"D\"\n",
    "    if elemento_uno == minimo: \n",
    "        elemento_uno = \"E\" \n",
    "array_1"
   ]
  }
 ],
 "metadata": {
  "interpreter": {
   "hash": "328661ec968ebc77b93161299d44fd1f4547ee33c9a17c5e95f23064c7c08def"
  },
  "kernelspec": {
   "display_name": "Python 3.9.7 ('base')",
   "language": "python",
   "name": "python3"
  },
  "language_info": {
   "codemirror_mode": {
    "name": "ipython",
    "version": 3
   },
   "file_extension": ".py",
   "mimetype": "text/x-python",
   "name": "python",
   "nbconvert_exporter": "python",
   "pygments_lexer": "ipython3",
   "version": "3.9.7"
  },
  "orig_nbformat": 4
 },
 "nbformat": 4,
 "nbformat_minor": 2
}
