{
 "cells": [
  {
   "cell_type": "markdown",
   "metadata": {},
   "source": [
    "# 20/04 - Pair Programming Numpy 3 - Tatiana & Lara"
   ]
  },
  {
   "cell_type": "markdown",
   "metadata": {},
   "source": [
    "Cread un array de tres dimensiones de 2 matrices, 3 filas y 5 columnas cuyos valores solo tengan 1 decimales. Sobre el array creado anteriormente, extraed"
   ]
  },
  {
   "cell_type": "code",
   "execution_count": 2,
   "metadata": {},
   "outputs": [
    {
     "data": {
      "text/plain": [
       "array([[[0.6, 0.4, 0.7, 0.3, 0.8],\n",
       "        [0.2, 0.6, 0.9, 0.5, 0.9],\n",
       "        [0.5, 0.8, 0.5, 0. , 0.2]],\n",
       "\n",
       "       [[0.2, 0.4, 0.8, 0.5, 0.2],\n",
       "        [0.5, 0.7, 0.3, 0.2, 0.2],\n",
       "        [0.5, 0. , 0.2, 0.5, 0.1]]])"
      ]
     },
     "execution_count": 2,
     "metadata": {},
     "output_type": "execute_result"
    }
   ],
   "source": [
    "import numpy as np\n",
    "\n",
    "array_1 = np.round(np.random.rand(2, 3, 5), decimals = 1)\n",
    "array_1"
   ]
  },
  {
   "cell_type": "markdown",
   "metadata": {},
   "source": [
    "Calculad la media del array y almacenarlos en una variable. Redondead a un decimal."
   ]
  },
  {
   "cell_type": "code",
   "execution_count": 6,
   "metadata": {},
   "outputs": [
    {
     "data": {
      "text/plain": [
       "0.4"
      ]
     },
     "execution_count": 6,
     "metadata": {},
     "output_type": "execute_result"
    }
   ],
   "source": [
    "media = np.round(np.mean(array_1), decimals = 1)\n",
    "media "
   ]
  },
  {
   "cell_type": "markdown",
   "metadata": {},
   "source": [
    "Calculad el valor máximo del array y almacenarlos en una variable. Redondead a un decimal."
   ]
  },
  {
   "cell_type": "code",
   "execution_count": 7,
   "metadata": {},
   "outputs": [
    {
     "data": {
      "text/plain": [
       "0.9"
      ]
     },
     "execution_count": 7,
     "metadata": {},
     "output_type": "execute_result"
    }
   ],
   "source": [
    "maximo = np.round(np.max(array_1), decimals = 1)\n",
    "maximo"
   ]
  },
  {
   "cell_type": "markdown",
   "metadata": {},
   "source": [
    "Calculad el valor mínimo del array y almacenarlos en una variable. Redondead a un decimal."
   ]
  },
  {
   "cell_type": "code",
   "execution_count": 8,
   "metadata": {},
   "outputs": [
    {
     "data": {
      "text/plain": [
       "0.0"
      ]
     },
     "execution_count": 8,
     "metadata": {},
     "output_type": "execute_result"
    }
   ],
   "source": [
    "minimo = np.round(np.min(array_1), decimals = 1)\n",
    "minimo"
   ]
  },
  {
   "cell_type": "markdown",
   "metadata": {},
   "source": [
    "Cread un array vacío con la misma forma y dimensiones que el array creado anteriormente."
   ]
  },
  {
   "cell_type": "code",
   "execution_count": 9,
   "metadata": {},
   "outputs": [
    {
     "data": {
      "text/plain": [
       "array([[[0.6, 0.4, 0.7, 0.3, 0.8],\n",
       "        [0.2, 0.6, 0.9, 0.5, 0.9],\n",
       "        [0.5, 0.8, 0.5, 0. , 0.2]],\n",
       "\n",
       "       [[0.2, 0.4, 0.8, 0.5, 0.2],\n",
       "        [0.5, 0.7, 0.3, 0.2, 0.2],\n",
       "        [0.5, 0. , 0.2, 0.5, 0.1]]])"
      ]
     },
     "execution_count": 9,
     "metadata": {},
     "output_type": "execute_result"
    }
   ],
   "source": [
    "array_2 = np.empty_like(array_1)\n",
    "array_2"
   ]
  },
  {
   "cell_type": "markdown",
   "metadata": {},
   "source": [
    "Vamos a reemplazar los valores de la matriz vacía que nos acabamos de crear pero basándonos en los valores del primer array bajo las siguientes condiciones:\n",
    "Si el valor del array es igual que la media, se reemplaza por \"A\".\n",
    "Si el valor del array es mayor que la media, se reemplaza por \"B\".\n",
    "Si el valor del array es menor que la media, se reemplaza por \"C\".\n",
    "Si el valor es igual que el máximo, se reemplaza por \"D\".\n",
    "Si el valor es igual que el mínimo, se reemplaza por \"E\"."
   ]
  },
  {
   "cell_type": "code",
   "execution_count": 10,
   "metadata": {},
   "outputs": [
    {
     "ename": "NameError",
     "evalue": "name 'replace' is not defined",
     "output_type": "error",
     "traceback": [
      "\u001b[0;31m---------------------------------------------------------------------------\u001b[0m",
      "\u001b[0;31mNameError\u001b[0m                                 Traceback (most recent call last)",
      "\u001b[0;32m/tmp/ipykernel_3900/425706146.py\u001b[0m in \u001b[0;36m<module>\u001b[0;34m\u001b[0m\n\u001b[1;32m      2\u001b[0m     \u001b[0;32mif\u001b[0m \u001b[0melemento_uno\u001b[0m \u001b[0;34m==\u001b[0m \u001b[0mmedia\u001b[0m\u001b[0;34m:\u001b[0m\u001b[0;34m\u001b[0m\u001b[0;34m\u001b[0m\u001b[0m\n\u001b[1;32m      3\u001b[0m \u001b[0;34m\u001b[0m\u001b[0m\n\u001b[0;32m----> 4\u001b[0;31m         \u001b[0mreplace\u001b[0m\u001b[0;34m(\u001b[0m\u001b[0;34m)\u001b[0m\u001b[0;34m\u001b[0m\u001b[0;34m\u001b[0m\u001b[0m\n\u001b[0m\u001b[1;32m      5\u001b[0m \u001b[0marray_1\u001b[0m\u001b[0;34m\u001b[0m\u001b[0;34m\u001b[0m\u001b[0m\n",
      "\u001b[0;31mNameError\u001b[0m: name 'replace' is not defined"
     ]
    }
   ],
   "source": [
    "for elemento_uno in np.nditer(array_1):\n",
    "    if elemento_uno == media:\n",
    "        \n",
    "        replace()\n",
    "array_1"
   ]
  },
  {
   "cell_type": "code",
   "execution_count": null,
   "metadata": {},
   "outputs": [],
   "source": [
    "i=0\n",
    "j=0\n",
    "k=0\n",
    "array_2[i][j][k]\n",
    "array_1[i][j][k]\n",
    "while \n"
   ]
  },
  {
   "cell_type": "code",
   "execution_count": null,
   "metadata": {},
   "outputs": [
    {
     "data": {
      "text/plain": [
       "array([[[0.4, 0.2, 0.2, 0.8, 0.2],\n",
       "        [0.1, 0.2, 0.5, 0.2, 0.9],\n",
       "        [0.8, 0.9, 0.9, 0.2, 0.8]],\n",
       "\n",
       "       [[0.5, 0.1, 0.6, 0.6, 0.3],\n",
       "        [0.9, 0.9, 0.4, 0.9, 0.8],\n",
       "        [0.4, 1. , 0.9, 0.4, 0.1]]])"
      ]
     },
     "execution_count": 24,
     "metadata": {},
     "output_type": "execute_result"
    }
   ],
   "source": [
    "for elemento_uno in np.nditer(array_1):\n",
    "    #for elemento in np.nditer(array_1):\n",
    "    if elemento_uno == media:\n",
    "        elemento_uno == \"A\"\n",
    "    #if elemento_uno > media:\n",
    "        elemento_uno = \"B\"\n",
    "    #if elemento_uno < media:\n",
    "        elemento_uno = \"C\"\n",
    "    if elemento_uno == maximo:\n",
    "        elemento_uno = \"D\"\n",
    "    if elemento_uno == minimo: \n",
    "        elemento_uno = \"E\" \n",
    "array_1"
   ]
  },
  {
   "cell_type": "code",
   "execution_count": null,
   "metadata": {},
   "outputs": [
    {
     "data": {
      "text/plain": [
       "array([[['', '', '', '', ''],\n",
       "        ['', '', '', '', ''],\n",
       "        ['', '', '', '', '']],\n",
       "\n",
       "       [['', '', '', '', ''],\n",
       "        ['', '', '', '', ''],\n",
       "        ['', '', '', '', '']]], dtype='<U1')"
      ]
     },
     "execution_count": 3,
     "metadata": {},
     "output_type": "execute_result"
    }
   ],
   "source": [
    "array_str = np.empty_like(array_1, str)\n",
    "array_str"
   ]
  },
  {
   "cell_type": "code",
   "execution_count": 21,
   "metadata": {},
   "outputs": [
    {
     "data": {
      "text/plain": [
       "(2, 3, 5)"
      ]
     },
     "execution_count": 21,
     "metadata": {},
     "output_type": "execute_result"
    }
   ],
   "source": [
    "forma = array_str.shape\n",
    "forma"
   ]
  },
  {
   "cell_type": "code",
   "execution_count": 23,
   "metadata": {},
   "outputs": [
    {
     "data": {
      "text/plain": [
       "array([[['B', 'A', 'B', 'C', 'B'],\n",
       "        ['C', 'B', 'B', 'B', 'B'],\n",
       "        ['B', 'B', 'B', 'C', 'C']],\n",
       "\n",
       "       [['C', 'A', 'B', 'B', 'C'],\n",
       "        ['B', 'B', 'C', 'C', 'C'],\n",
       "        ['B', 'C', 'C', 'B', 'C']]], dtype='<U1')"
      ]
     },
     "execution_count": 23,
     "metadata": {},
     "output_type": "execute_result"
    }
   ],
   "source": [
    "for bloque in range(forma[0]):\n",
    "    for fila in range(forma[1]):\n",
    "        for col in range(forma[2]):\n",
    "            if array_1[bloque][fila][col] == media:\n",
    "                array_str[bloque][fila][col] = \"A\"\n",
    "            elif array_1[bloque][fila][col]  > media:\n",
    "                array_str[bloque][fila][col] = \"B\"\n",
    "            elif array_1[bloque][fila][col] < media:\n",
    "                array_str[bloque][fila][col] = \"C\"\n",
    "            elif array_1[bloque][fila][col] == maximo:\n",
    "                array_str[bloque][fila][col] = \"D\"\n",
    "            elif array_1[bloque][fila][col] == minimo: \n",
    "                array_str[bloque][fila][col] = \"E\" \n",
    "            else:\n",
    "                pass\n",
    "array_str"
   ]
  }
 ],
 "metadata": {
  "interpreter": {
   "hash": "328661ec968ebc77b93161299d44fd1f4547ee33c9a17c5e95f23064c7c08def"
  },
  "kernelspec": {
   "display_name": "Python 3.9.7 ('base')",
   "language": "python",
   "name": "python3"
  },
  "language_info": {
   "codemirror_mode": {
    "name": "ipython",
    "version": 3
   },
   "file_extension": ".py",
   "mimetype": "text/x-python",
   "name": "python",
   "nbconvert_exporter": "python",
   "pygments_lexer": "ipython3",
   "version": "3.9.7"
  },
  "orig_nbformat": 4
 },
 "nbformat": 4,
 "nbformat_minor": 2
}
