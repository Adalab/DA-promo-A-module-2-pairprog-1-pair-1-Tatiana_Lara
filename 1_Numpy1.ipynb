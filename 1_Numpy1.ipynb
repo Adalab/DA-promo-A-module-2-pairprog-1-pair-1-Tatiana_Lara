{
 "cells": [
  {
   "cell_type": "markdown",
   "metadata": {},
   "source": [
    "# 18/04 - Pair Programming Numpy 1 - Tatiana & Lara"
   ]
  },
  {
   "cell_type": "code",
   "execution_count": 1,
   "metadata": {},
   "outputs": [],
   "source": [
    "import numpy as np"
   ]
  },
  {
   "cell_type": "markdown",
   "metadata": {},
   "source": [
    "# Ejercicio 1 \n"
   ]
  },
  {
   "cell_type": "markdown",
   "metadata": {},
   "source": [
    "Crear 3 arrays. 1) dos dimensiones, 2 filas y 3 col; 2) 3 dim, 2 matrices,3 filas, 5 col. *) "
   ]
  },
  {
   "cell_type": "code",
   "execution_count": 2,
   "metadata": {},
   "outputs": [
    {
     "data": {
      "text/plain": [
       "array([1, 2, 3, 4, 5])"
      ]
     },
     "execution_count": 2,
     "metadata": {},
     "output_type": "execute_result"
    }
   ],
   "source": [
    "#Array 1\n",
    "\n",
    "lista1 = [1, 2, 3, 4, 5]\n",
    "array_1 =np.array(lista1)\n",
    "array_1"
   ]
  },
  {
   "cell_type": "code",
   "execution_count": 4,
   "metadata": {},
   "outputs": [
    {
     "data": {
      "text/plain": [
       "array([[6, 9, 8],\n",
       "       [3, 5, 2]])"
      ]
     },
     "execution_count": 4,
     "metadata": {},
     "output_type": "execute_result"
    }
   ],
   "source": [
    "#Array 2 (dos dimensiones, 2 filas, 3 col)\n",
    "\n",
    "array_2 = np.random.randint (1, 10, (2, 3))\n",
    "array_2"
   ]
  },
  {
   "cell_type": "code",
   "execution_count": 5,
   "metadata": {},
   "outputs": [
    {
     "data": {
      "text/plain": [
       "array([[[0.60273906, 0.89757772, 0.9521491 , 0.85145229, 0.75894662],\n",
       "        [0.91379953, 0.33584673, 0.93162511, 0.72580759, 0.6654558 ],\n",
       "        [0.32334015, 0.89370783, 0.89043428, 0.41404964, 0.27351203]],\n",
       "\n",
       "       [[0.72896408, 0.35047846, 0.7696711 , 0.35684142, 0.46774779],\n",
       "        [0.57019745, 0.60634484, 0.73582465, 0.30684873, 0.50170894],\n",
       "        [0.71713294, 0.4503055 , 0.30086947, 0.96958833, 0.04098392]]])"
      ]
     },
     "execution_count": 5,
     "metadata": {},
     "output_type": "execute_result"
    }
   ],
   "source": [
    "#Array 3 (2 matrices, 3 filas, 5 col)\n",
    "\n",
    "array_3 = np.random.rand(2, 3, 5)\n",
    "array_3"
   ]
  },
  {
   "cell_type": "markdown",
   "metadata": {},
   "source": [
    "# 2. Función que muestre las propiedades de un array"
   ]
  },
  {
   "cell_type": "code",
   "execution_count": 42,
   "metadata": {},
   "outputs": [],
   "source": [
    "#FUNCIÓN\n",
    "\n",
    "def propiedades (array):\n",
    "    a = (\"La forma es:\", array.shape)\n",
    "    b = (\"El tamaño es:\", array.size)\n",
    "    c = (\"El número de dimensiones es:\", array.ndim) \n",
    "    d = (\"El tipo de datos es:\", array.dtype)\n",
    "    \n",
    "    prop = a, b, c, d\n",
    "    return(\"Las propiedades del\", array, \"son:\", prop)"
   ]
  },
  {
   "cell_type": "code",
   "execution_count": 45,
   "metadata": {},
   "outputs": [
    {
     "data": {
      "text/plain": [
       "('Las propiedades del',\n",
       " array([[[0.60273906, 0.89757772, 0.9521491 , 0.85145229, 0.75894662],\n",
       "         [0.91379953, 0.33584673, 0.93162511, 0.72580759, 0.6654558 ],\n",
       "         [0.32334015, 0.89370783, 0.89043428, 0.41404964, 0.27351203]],\n",
       " \n",
       "        [[0.72896408, 0.35047846, 0.7696711 , 0.35684142, 0.46774779],\n",
       "         [0.57019745, 0.60634484, 0.73582465, 0.30684873, 0.50170894],\n",
       "         [0.71713294, 0.4503055 , 0.30086947, 0.96958833, 0.04098392]]]),\n",
       " 'son:',\n",
       " (('La forma es:', (2, 3, 5)),\n",
       "  ('El tamaño es:', 30),\n",
       "  ('El número de dimensiones es:', 3),\n",
       "  ('El tipo de datos es:', dtype('float64'))))"
      ]
     },
     "execution_count": 45,
     "metadata": {},
     "output_type": "execute_result"
    }
   ],
   "source": [
    "propiedades(array_1)\n",
    "#propiedades(array_2)\n",
    "#propiedades(array_3)"
   ]
  },
  {
   "cell_type": "markdown",
   "metadata": {},
   "source": [
    "# 3. Crear matriz de identidad"
   ]
  },
  {
   "cell_type": "code",
   "execution_count": 46,
   "metadata": {},
   "outputs": [
    {
     "data": {
      "text/plain": [
       "array([[1., 0., 0.],\n",
       "       [0., 1., 0.],\n",
       "       [0., 0., 1.]])"
      ]
     },
     "execution_count": 46,
     "metadata": {},
     "output_type": "execute_result"
    }
   ],
   "source": [
    "#2 dimensiones, 3 filas y 3 columnas\n",
    "\n",
    "matriz_1 = np.identity(3)\n",
    "matriz_1\n",
    "\n"
   ]
  },
  {
   "cell_type": "markdown",
   "metadata": {},
   "source": [
    "# 4. Cread una matriz de tres dimensiones de unos igual a la martiz de tres dimensiones creada en el primer ejercicio."
   ]
  },
  {
   "cell_type": "code",
   "execution_count": 48,
   "metadata": {},
   "outputs": [
    {
     "data": {
      "text/plain": [
       "array([[1., 1., 1.],\n",
       "       [1., 1., 1.],\n",
       "       [1., 1., 1.]])"
      ]
     },
     "execution_count": 48,
     "metadata": {},
     "output_type": "execute_result"
    }
   ],
   "source": [
    "matriz_2 = np.ones_like(matriz_1)\n",
    "matriz_2"
   ]
  },
  {
   "cell_type": "markdown",
   "metadata": {},
   "source": [
    "# 5. Operaciones"
   ]
  },
  {
   "cell_type": "code",
   "execution_count": 53,
   "metadata": {},
   "outputs": [],
   "source": [
    "# 1) ¿Se puede sumar el array de dos dimensiones que creamos en el primer ejecicios a la matriz identidad? ¿Por qué?\n",
    "\n",
    "#suma = array_2 + matriz_1\n",
    "#print(array_2)\n",
    "#print(matriz_1)\n",
    "\n",
    "#No se pueden sumar, como hemos comprobado, porque tienen diferentes formas. Ambos son bidimensionales, pero el número de filas y columnas no es el mismo (2, 3) y (3, 3)\n",
    "\n"
   ]
  },
  {
   "cell_type": "code",
   "execution_count": null,
   "metadata": {},
   "outputs": [],
   "source": [
    "# 2) En caso de que no se puedan sumar, busca una solución para sumar una matriz identidad a otra. La solución puede ser crear un array nuevo.\n",
    "\n",
    "#opción: crear array nuevo con las mismas dimensiones: como en este caso la matriz es de tamaño 3x3, nuestro array deberá tener 3 filas y 3 columnas.\n",
    "\n",
    "array_nuevo = \n"
   ]
  }
 ],
 "metadata": {
  "interpreter": {
   "hash": "31f2aee4e71d21fbe5cf8b01ff0e069b9275f58929596ceb00d14d90e3e16cd6"
  },
  "kernelspec": {
   "display_name": "Python 3.6.9 64-bit",
   "language": "python",
   "name": "python3"
  },
  "language_info": {
   "codemirror_mode": {
    "name": "ipython",
    "version": 3
   },
   "file_extension": ".py",
   "mimetype": "text/x-python",
   "name": "python",
   "nbconvert_exporter": "python",
   "pygments_lexer": "ipython3",
   "version": "3.6.9"
  },
  "orig_nbformat": 4
 },
 "nbformat": 4,
 "nbformat_minor": 2
}
