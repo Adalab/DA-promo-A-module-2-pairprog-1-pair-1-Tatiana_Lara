{
 "cells": [
  {
   "cell_type": "markdown",
   "metadata": {},
   "source": [
    "# 19/04 - Pair Programming Pandas 2 - Tatiana & Lara"
   ]
  },
  {
   "cell_type": "code",
   "execution_count": 2,
   "metadata": {},
   "outputs": [],
   "source": [
    "import pandas as pd\n",
    "import numpy as np\n",
    "import pickle"
   ]
  },
  {
   "cell_type": "markdown",
   "metadata": {},
   "source": [
    "Carga de archivo CSV"
   ]
  },
  {
   "cell_type": "code",
   "execution_count": 9,
   "metadata": {},
   "outputs": [
    {
     "data": {
      "text/html": [
       "<div>\n",
       "<style scoped>\n",
       "    .dataframe tbody tr th:only-of-type {\n",
       "        vertical-align: middle;\n",
       "    }\n",
       "\n",
       "    .dataframe tbody tr th {\n",
       "        vertical-align: top;\n",
       "    }\n",
       "\n",
       "    .dataframe thead th {\n",
       "        text-align: right;\n",
       "    }\n",
       "</style>\n",
       "<table border=\"1\" class=\"dataframe\">\n",
       "  <thead>\n",
       "    <tr style=\"text-align: right;\">\n",
       "      <th></th>\n",
       "      <th>tipo</th>\n",
       "      <th>estado</th>\n",
       "      <th>canal_entrada</th>\n",
       "      <th>fecha_entrada</th>\n",
       "      <th>fecha_contestacion</th>\n",
       "      <th>consejeria</th>\n",
       "      <th>unidad_descripcion</th>\n",
       "      <th>tema</th>\n",
       "      <th>subtema</th>\n",
       "    </tr>\n",
       "  </thead>\n",
       "  <tbody>\n",
       "    <tr>\n",
       "      <th>0</th>\n",
       "      <td>Queja</td>\n",
       "      <td>Recepcionada por Unidad</td>\n",
       "      <td>INTERNET</td>\n",
       "      <td>2022-01-28 00:00:00</td>\n",
       "      <td>NaN</td>\n",
       "      <td>Consejería de Medio Ambiente, Vivienda y Agric...</td>\n",
       "      <td>D.G. de Descarbonización y Transición Energética</td>\n",
       "      <td>ENERGÍA</td>\n",
       "      <td>NaN</td>\n",
       "    </tr>\n",
       "    <tr>\n",
       "      <th>1</th>\n",
       "      <td>Queja</td>\n",
       "      <td>Recepcionada por Unidad</td>\n",
       "      <td>INTERNET</td>\n",
       "      <td>2022-03-28 00:00:00</td>\n",
       "      <td>NaN</td>\n",
       "      <td>Consejería de Medio Ambiente, Vivienda y Agric...</td>\n",
       "      <td>D.G. de Descarbonización y Transición Energética</td>\n",
       "      <td>ENERGÍA</td>\n",
       "      <td>NaN</td>\n",
       "    </tr>\n",
       "  </tbody>\n",
       "</table>\n",
       "</div>"
      ],
      "text/plain": [
       "    tipo                   estado canal_entrada        fecha_entrada  \\\n",
       "0  Queja  Recepcionada por Unidad      INTERNET  2022-01-28 00:00:00   \n",
       "1  Queja  Recepcionada por Unidad      INTERNET  2022-03-28 00:00:00   \n",
       "\n",
       "  fecha_contestacion                                         consejeria  \\\n",
       "0                NaN  Consejería de Medio Ambiente, Vivienda y Agric...   \n",
       "1                NaN  Consejería de Medio Ambiente, Vivienda y Agric...   \n",
       "\n",
       "                                 unidad_descripcion     tema subtema  \n",
       "0  D.G. de Descarbonización y Transición Energética  ENERGÍA     NaN  \n",
       "1  D.G. de Descarbonización y Transición Energética  ENERGÍA     NaN  "
      ]
     },
     "execution_count": 9,
     "metadata": {},
     "output_type": "execute_result"
    }
   ],
   "source": [
    "#CSV\n",
    "csv = pd.read_csv(\"2.quejas.csv\", sep = \";\", encoding = \"latin-1\")\n",
    "csv.head(2)"
   ]
  },
  {
   "cell_type": "markdown",
   "metadata": {},
   "source": [
    "Carga de archivo XLSX"
   ]
  },
  {
   "cell_type": "code",
   "execution_count": 3,
   "metadata": {},
   "outputs": [
    {
     "data": {
      "text/html": [
       "<div>\n",
       "<style scoped>\n",
       "    .dataframe tbody tr th:only-of-type {\n",
       "        vertical-align: middle;\n",
       "    }\n",
       "\n",
       "    .dataframe tbody tr th {\n",
       "        vertical-align: top;\n",
       "    }\n",
       "\n",
       "    .dataframe thead th {\n",
       "        text-align: right;\n",
       "    }\n",
       "</style>\n",
       "<table border=\"1\" class=\"dataframe\">\n",
       "  <thead>\n",
       "    <tr style=\"text-align: right;\">\n",
       "      <th></th>\n",
       "      <th>DESCRIPCION_TEMA</th>\n",
       "      <th>DESCRIPCION_SUBTEMA</th>\n",
       "    </tr>\n",
       "  </thead>\n",
       "  <tbody>\n",
       "    <tr>\n",
       "      <th>0</th>\n",
       "      <td>ATENCIÓN AL CIUDADANO</td>\n",
       "      <td>ADMINISTRACIÓN ELECTRÓNICA</td>\n",
       "    </tr>\n",
       "    <tr>\n",
       "      <th>1</th>\n",
       "      <td>ATENCIÓN AL CIUDADANO</td>\n",
       "      <td>FUNCIÓN PÚBLICA</td>\n",
       "    </tr>\n",
       "  </tbody>\n",
       "</table>\n",
       "</div>"
      ],
      "text/plain": [
       "        DESCRIPCION_TEMA         DESCRIPCION_SUBTEMA\n",
       "0  ATENCIÓN AL CIUDADANO  ADMINISTRACIÓN ELECTRÓNICA\n",
       "1  ATENCIÓN AL CIUDADANO             FUNCIÓN PÚBLICA"
      ]
     },
     "execution_count": 3,
     "metadata": {},
     "output_type": "execute_result"
    }
   ],
   "source": [
    "#XLSX\n",
    "import openpyxl\n",
    "\n",
    "xlsx = pd.read_excel(\"2_quejas.xlsx\")\n",
    "xlsx.head(2)\n"
   ]
  },
  {
   "cell_type": "markdown",
   "metadata": {},
   "source": [
    "Carga de archivo JSON"
   ]
  },
  {
   "cell_type": "code",
   "execution_count": 5,
   "metadata": {},
   "outputs": [
    {
     "data": {
      "text/html": [
       "<div>\n",
       "<style scoped>\n",
       "    .dataframe tbody tr th:only-of-type {\n",
       "        vertical-align: middle;\n",
       "    }\n",
       "\n",
       "    .dataframe tbody tr th {\n",
       "        vertical-align: top;\n",
       "    }\n",
       "\n",
       "    .dataframe thead th {\n",
       "        text-align: right;\n",
       "    }\n",
       "</style>\n",
       "<table border=\"1\" class=\"dataframe\">\n",
       "  <thead>\n",
       "    <tr style=\"text-align: right;\">\n",
       "      <th></th>\n",
       "      <th>data</th>\n",
       "    </tr>\n",
       "  </thead>\n",
       "  <tbody>\n",
       "    <tr>\n",
       "      <th>0</th>\n",
       "      <td>{'unidad_descripcion': 'D.G. de Descarbonizaci...</td>\n",
       "    </tr>\n",
       "    <tr>\n",
       "      <th>1</th>\n",
       "      <td>{'unidad_descripcion': 'D.G. de Descarbonizaci...</td>\n",
       "    </tr>\n",
       "  </tbody>\n",
       "</table>\n",
       "</div>"
      ],
      "text/plain": [
       "                                                data\n",
       "0  {'unidad_descripcion': 'D.G. de Descarbonizaci...\n",
       "1  {'unidad_descripcion': 'D.G. de Descarbonizaci..."
      ]
     },
     "execution_count": 5,
     "metadata": {},
     "output_type": "execute_result"
    }
   ],
   "source": [
    "#JSON\n",
    "\n",
    "json = pd.read_json(\"2_quejas.json\")\n",
    "json.head(2)"
   ]
  },
  {
   "cell_type": "code",
   "execution_count": 13,
   "metadata": {},
   "outputs": [
    {
     "data": {
      "text/html": [
       "<div>\n",
       "<style scoped>\n",
       "    .dataframe tbody tr th:only-of-type {\n",
       "        vertical-align: middle;\n",
       "    }\n",
       "\n",
       "    .dataframe tbody tr th {\n",
       "        vertical-align: top;\n",
       "    }\n",
       "\n",
       "    .dataframe thead th {\n",
       "        text-align: right;\n",
       "    }\n",
       "</style>\n",
       "<table border=\"1\" class=\"dataframe\">\n",
       "  <thead>\n",
       "    <tr style=\"text-align: right;\">\n",
       "      <th></th>\n",
       "      <th>unidad_descripcion</th>\n",
       "      <th>tipo</th>\n",
       "      <th>estado</th>\n",
       "      <th>tema</th>\n",
       "      <th>consejeria</th>\n",
       "      <th>fecha_contestacion</th>\n",
       "      <th>canal_entrada</th>\n",
       "      <th>fecha_entrada</th>\n",
       "      <th>subtema</th>\n",
       "    </tr>\n",
       "  </thead>\n",
       "  <tbody>\n",
       "    <tr>\n",
       "      <th>0</th>\n",
       "      <td>D.G. de Descarbonización y Transición Energética</td>\n",
       "      <td>Queja</td>\n",
       "      <td>Recepcionada por Unidad</td>\n",
       "      <td>ENERGÍA</td>\n",
       "      <td>Consejería de Medio Ambiente, Vivienda y Agric...</td>\n",
       "      <td></td>\n",
       "      <td>INTERNET</td>\n",
       "      <td>2022-01-28 00:00:00</td>\n",
       "      <td>N/A</td>\n",
       "    </tr>\n",
       "    <tr>\n",
       "      <th>1</th>\n",
       "      <td>D.G. de Descarbonización y Transición Energética</td>\n",
       "      <td>Queja</td>\n",
       "      <td>Recepcionada por Unidad</td>\n",
       "      <td>ENERGÍA</td>\n",
       "      <td>Consejería de Medio Ambiente, Vivienda y Agric...</td>\n",
       "      <td></td>\n",
       "      <td>INTERNET</td>\n",
       "      <td>2022-03-28 00:00:00</td>\n",
       "      <td>N/A</td>\n",
       "    </tr>\n",
       "  </tbody>\n",
       "</table>\n",
       "</div>"
      ],
      "text/plain": [
       "                                 unidad_descripcion   tipo  \\\n",
       "0  D.G. de Descarbonización y Transición Energética  Queja   \n",
       "1  D.G. de Descarbonización y Transición Energética  Queja   \n",
       "\n",
       "                    estado     tema  \\\n",
       "0  Recepcionada por Unidad  ENERGÍA   \n",
       "1  Recepcionada por Unidad  ENERGÍA   \n",
       "\n",
       "                                          consejeria fecha_contestacion  \\\n",
       "0  Consejería de Medio Ambiente, Vivienda y Agric...                      \n",
       "1  Consejería de Medio Ambiente, Vivienda y Agric...                      \n",
       "\n",
       "  canal_entrada        fecha_entrada subtema  \n",
       "0      INTERNET  2022-01-28 00:00:00     N/A  \n",
       "1      INTERNET  2022-03-28 00:00:00     N/A  "
      ]
     },
     "execution_count": 13,
     "metadata": {},
     "output_type": "execute_result"
    }
   ],
   "source": [
    "#Transformamos JSON a formato legible\n",
    "json_legible = json[\"data\"].apply(pd.Series)\n",
    "json_legible.head(2)"
   ]
  },
  {
   "cell_type": "markdown",
   "metadata": {},
   "source": [
    "Carga y guardado de tabla almacenada en el portapapeles"
   ]
  },
  {
   "cell_type": "code",
   "execution_count": 32,
   "metadata": {},
   "outputs": [
    {
     "data": {
      "text/html": [
       "<div>\n",
       "<style scoped>\n",
       "    .dataframe tbody tr th:only-of-type {\n",
       "        vertical-align: middle;\n",
       "    }\n",
       "\n",
       "    .dataframe tbody tr th {\n",
       "        vertical-align: top;\n",
       "    }\n",
       "\n",
       "    .dataframe thead th {\n",
       "        text-align: right;\n",
       "    }\n",
       "</style>\n",
       "<table border=\"1\" class=\"dataframe\">\n",
       "  <thead>\n",
       "    <tr style=\"text-align: right;\">\n",
       "      <th></th>\n",
       "      <th>Senior IT Security Consultant – 40.000€ a 50.000€</th>\n",
       "    </tr>\n",
       "  </thead>\n",
       "  <tbody>\n",
       "    <tr>\n",
       "      <th>0</th>\n",
       "      <td>Senior Node.JS developer  –  40.000€ a 50.000€</td>\n",
       "    </tr>\n",
       "    <tr>\n",
       "      <th>1</th>\n",
       "      <td>QA Engineer  –  35.000€ a 45.000€</td>\n",
       "    </tr>\n",
       "    <tr>\n",
       "      <th>2</th>\n",
       "      <td>Java developer  –  32.000€ a 37.000€</td>\n",
       "    </tr>\n",
       "    <tr>\n",
       "      <th>3</th>\n",
       "      <td>Frontend developer Angular  –  35.000€ a 45.000€</td>\n",
       "    </tr>\n",
       "    <tr>\n",
       "      <th>4</th>\n",
       "      <td>Ingeniero Preventa Networking  –  30.000€ a 38...</td>\n",
       "    </tr>\n",
       "    <tr>\n",
       "      <th>5</th>\n",
       "      <td>Full Stack (Java + Angular)   –  30.000€ a 40....</td>\n",
       "    </tr>\n",
       "    <tr>\n",
       "      <th>6</th>\n",
       "      <td>Analista Programador Java  –  32.000€ a 38.000€</td>\n",
       "    </tr>\n",
       "    <tr>\n",
       "      <th>7</th>\n",
       "      <td>Frontend developer  –  32.000€ a 38.000€</td>\n",
       "    </tr>\n",
       "    <tr>\n",
       "      <th>8</th>\n",
       "      <td>. Net (C#) developer  –  28.000€ a 33.000€</td>\n",
       "    </tr>\n",
       "  </tbody>\n",
       "</table>\n",
       "</div>"
      ],
      "text/plain": [
       "   Senior IT Security Consultant – 40.000€ a 50.000€\n",
       "0     Senior Node.JS developer  –  40.000€ a 50.000€\n",
       "1                  QA Engineer  –  35.000€ a 45.000€\n",
       "2               Java developer  –  32.000€ a 37.000€\n",
       "3   Frontend developer Angular  –  35.000€ a 45.000€\n",
       "4  Ingeniero Preventa Networking  –  30.000€ a 38...\n",
       "5  Full Stack (Java + Angular)   –  30.000€ a 40....\n",
       "6    Analista Programador Java  –  32.000€ a 38.000€\n",
       "7           Frontend developer  –  32.000€ a 38.000€\n",
       "8         . Net (C#) developer  –  28.000€ a 33.000€"
      ]
     },
     "execution_count": 32,
     "metadata": {},
     "output_type": "execute_result"
    }
   ],
   "source": [
    "#CLIPBOARD\n",
    "\n",
    "clip = pd.read_clipboard(sep = \"-\")\n",
    "clip"
   ]
  },
  {
   "cell_type": "markdown",
   "metadata": {},
   "source": [
    "Guardado en los siguientes formatos:\n",
    "- csv\n",
    "- excel\n",
    "- json\n",
    "- pickle"
   ]
  },
  {
   "cell_type": "code",
   "execution_count": 34,
   "metadata": {},
   "outputs": [],
   "source": [
    "clip_csv = clip.to_csv(\"archivos_nuevos/clip.csv\")\n",
    "clip_excel = clip.to_excel(\"archivos_nuevos/clip.xlsx\")\n",
    "clip_json = clip.to_json(\"archivos_nuevos/clip.json\")\n",
    "clip_pickle = clip.to_pickle(\"archivos_nuevos/clip.pickle\")"
   ]
  }
 ],
 "metadata": {
  "interpreter": {
   "hash": "31f2aee4e71d21fbe5cf8b01ff0e069b9275f58929596ceb00d14d90e3e16cd6"
  },
  "kernelspec": {
   "display_name": "Python 3.6.9 64-bit",
   "language": "python",
   "name": "python3"
  },
  "language_info": {
   "codemirror_mode": {
    "name": "ipython",
    "version": 3
   },
   "file_extension": ".py",
   "mimetype": "text/x-python",
   "name": "python",
   "nbconvert_exporter": "python",
   "pygments_lexer": "ipython3",
   "version": "3.9.7"
  },
  "orig_nbformat": 4
 },
 "nbformat": 4,
 "nbformat_minor": 2
}
